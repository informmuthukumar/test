{
  "nbformat": 4,
  "nbformat_minor": 0,
  "metadata": {
    "colab": {
      "name": "Copy of Copy of hackearth_diabetesMed.ipynb",
      "provenance": [],
      "collapsed_sections": [],
      "authorship_tag": "ABX9TyMmmgU9Zo3wiiwsdvMbkytW",
      "include_colab_link": true
    },
    "kernelspec": {
      "name": "python3",
      "display_name": "Python 3"
    }
  },
  "cells": [
    {
      "cell_type": "markdown",
      "metadata": {
        "id": "view-in-github",
        "colab_type": "text"
      },
      "source": [
        "<a href=\"https://colab.research.google.com/github/informmuthukumar/test/blob/master/First_submission_hackearth_diabetesMed.ipynb\" target=\"_parent\"><img src=\"https://colab.research.google.com/assets/colab-badge.svg\" alt=\"Open In Colab\"/></a>"
      ]
    },
    {
      "cell_type": "markdown",
      "metadata": {
        "id": "Mnn2pxPzt75p",
        "colab_type": "text"
      },
      "source": [
        "**Importing Libraries**"
      ]
    },
    {
      "cell_type": "code",
      "metadata": {
        "id": "ULDPp9KtqUvD",
        "colab_type": "code",
        "colab": {}
      },
      "source": [
        "import pandas as pd\n",
        "import matplotlib.pyplot as plt\n",
        "import numpy as np"
      ],
      "execution_count": 159,
      "outputs": []
    },
    {
      "cell_type": "markdown",
      "metadata": {
        "id": "WO08FX3zuTa5",
        "colab_type": "text"
      },
      "source": [
        "**Importing the Dataset**"
      ]
    },
    {
      "cell_type": "code",
      "metadata": {
        "id": "zbAKUYICuX8c",
        "colab_type": "code",
        "colab": {}
      },
      "source": [
        "train = pd.read_csv('train.csv')\n",
        "test = pd.read_csv('test.csv')"
      ],
      "execution_count": 135,
      "outputs": []
    },
    {
      "cell_type": "code",
      "metadata": {
        "id": "_iWkz0D8mayD",
        "colab_type": "code",
        "colab": {
          "base_uri": "https://localhost:8080/",
          "height": 69
        },
        "outputId": "29a6354d-05c6-4f2d-ae6f-3bc8719c9dde"
      },
      "source": [
        "print(train.shape)\n",
        "print(test.shape)\n",
        "print(type(train))"
      ],
      "execution_count": 136,
      "outputs": [
        {
          "output_type": "stream",
          "text": [
            "(14696, 50)\n",
            "(7970, 49)\n",
            "<class 'pandas.core.frame.DataFrame'>\n"
          ],
          "name": "stdout"
        }
      ]
    },
    {
      "cell_type": "code",
      "metadata": {
        "id": "JNKvQVfBmet1",
        "colab_type": "code",
        "colab": {}
      },
      "source": [
        "features_list=['encounter_id', 'patient_id', 'race', 'gender', 'age', 'admission_type_id', 'discharge_disposition_id',\n",
        "                  'admission_source_id', 'time_in_hospital', 'tel_3', 'tel_4', 'tel_5', 'tel_6', 'tel_7',\n",
        "                  'tel_8', 'tel_9', 'tel_10', 'tel_11', 'tel_12', 'tel_13', 'tel_14', 'tel_15', 'tel_18', 'tel_43', \n",
        "                  'tel_48', 'tel_49']"
      ],
      "execution_count": 163,
      "outputs": []
    },
    {
      "cell_type": "code",
      "metadata": {
        "id": "95ZJxuxwYRVZ",
        "colab_type": "code",
        "colab": {
          "base_uri": "https://localhost:8080/",
          "height": 35
        },
        "outputId": "242400d2-a15c-4c4f-f7d1-7d1bd0fc1ccb"
      },
      "source": [
        "print(len(features_list))"
      ],
      "execution_count": 164,
      "outputs": [
        {
          "output_type": "stream",
          "text": [
            "26\n"
          ],
          "name": "stdout"
        }
      ]
    },
    {
      "cell_type": "code",
      "metadata": {
        "id": "jqRDOV86gsgy",
        "colab_type": "code",
        "colab": {}
      },
      "source": [
        "train_X = train.loc[:, features_list]\n",
        "train_y = train.iloc[:, -1]               "
      ],
      "execution_count": 138,
      "outputs": []
    },
    {
      "cell_type": "code",
      "metadata": {
        "id": "b78CpuMczvVm",
        "colab_type": "code",
        "colab": {}
      },
      "source": [
        "test_X = test.loc[:, features_list]\n",
        "test_X.head()"
      ],
      "execution_count": null,
      "outputs": []
    },
    {
      "cell_type": "code",
      "metadata": {
        "id": "yPDXKPSDkA1N",
        "colab_type": "code",
        "colab": {
          "base_uri": "https://localhost:8080/",
          "height": 953
        },
        "outputId": "f3245959-46a0-4913-b073-f402cfb230a4"
      },
      "source": [
        "train_X = train_X.replace(to_replace='?',value=np.nan)\n",
        "test_X = test_X.replace(to_replace='?',value=np.nan)\n",
        "print(train_X.isnull().sum(axis=0).head(50))\n",
        "print(test_X.isnull().sum(axis=0).head(50))"
      ],
      "execution_count": 140,
      "outputs": [
        {
          "output_type": "stream",
          "text": [
            "encounter_id                  0\n",
            "patient_id                    0\n",
            "race                        337\n",
            "gender                        0\n",
            "age                           0\n",
            "admission_type_id             0\n",
            "discharge_disposition_id      0\n",
            "admission_source_id           0\n",
            "time_in_hospital              0\n",
            "tel_3                         0\n",
            "tel_4                         0\n",
            "tel_5                         0\n",
            "tel_6                         0\n",
            "tel_7                         0\n",
            "tel_8                         0\n",
            "tel_9                         1\n",
            "tel_10                       33\n",
            "tel_11                      139\n",
            "tel_12                        0\n",
            "tel_13                        0\n",
            "tel_14                        0\n",
            "tel_15                        0\n",
            "tel_18                        0\n",
            "tel_43                        0\n",
            "tel_48                        0\n",
            "tel_49                        0\n",
            "dtype: int64\n",
            "encounter_id                  0\n",
            "patient_id                    0\n",
            "race                        194\n",
            "gender                        0\n",
            "age                           0\n",
            "admission_type_id             0\n",
            "discharge_disposition_id      0\n",
            "admission_source_id           0\n",
            "time_in_hospital              0\n",
            "tel_3                         0\n",
            "tel_4                         0\n",
            "tel_5                         0\n",
            "tel_6                         0\n",
            "tel_7                         0\n",
            "tel_8                         0\n",
            "tel_9                         1\n",
            "tel_10                       42\n",
            "tel_11                      192\n",
            "tel_12                        0\n",
            "tel_13                        0\n",
            "tel_14                        0\n",
            "tel_15                        0\n",
            "tel_18                        0\n",
            "tel_43                        0\n",
            "tel_48                        0\n",
            "tel_49                        0\n",
            "dtype: int64\n"
          ],
          "name": "stdout"
        }
      ]
    },
    {
      "cell_type": "code",
      "metadata": {
        "id": "7A9MHtd9pj7c",
        "colab_type": "code",
        "colab": {}
      },
      "source": [
        "train_cat_cols=list(train_X.select_dtypes(include=['object']).columns)\n",
        "train_num_cols=list(train_X.select_dtypes(exclude=['object']).columns)\n",
        "test_cat_cols=list(test_X.select_dtypes(include=['object']).columns)\n",
        "test_num_cols=list(test_X.select_dtypes(exclude=['object']).columns)"
      ],
      "execution_count": 141,
      "outputs": []
    },
    {
      "cell_type": "code",
      "metadata": {
        "id": "Oz9m1A82qB_h",
        "colab_type": "code",
        "colab": {}
      },
      "source": [
        "from sklearn.impute import SimpleImputer\n",
        "imputer = SimpleImputer(missing_values=np.nan, strategy='most_frequent')\n",
        "imputer.fit(train_X)\n",
        "train_X_df = imputer.transform(train_X)\n",
        "test_imputer = SimpleImputer(missing_values=np.nan, strategy='most_frequent')\n",
        "test_imputer.fit(test_X)\n",
        "test_X_df = imputer.transform(test_X)"
      ],
      "execution_count": 142,
      "outputs": []
    },
    {
      "cell_type": "code",
      "metadata": {
        "id": "CPNyc6XzBPCc",
        "colab_type": "code",
        "colab": {}
      },
      "source": [
        "#print(type(X_df))\n",
        "train_X_df_pd=pd.DataFrame(train_X_df,columns=features_list)\n",
        "test_X_df_pd=pd.DataFrame(test_X_df,columns=features_list)"
      ],
      "execution_count": 143,
      "outputs": []
    },
    {
      "cell_type": "code",
      "metadata": {
        "id": "PhaDPIbXCHlB",
        "colab_type": "code",
        "colab": {
          "base_uri": "https://localhost:8080/",
          "height": 121
        },
        "outputId": "920733e7-f832-4db2-dc49-508862e512e3"
      },
      "source": [
        "train_X_df_pd.race.value_counts()"
      ],
      "execution_count": 144,
      "outputs": [
        {
          "output_type": "execute_result",
          "data": {
            "text/plain": [
              "Caucasian          11553\n",
              "AfricanAmerican     2543\n",
              "Hispanic             278\n",
              "Other                219\n",
              "Asian                103\n",
              "Name: race, dtype: int64"
            ]
          },
          "metadata": {
            "tags": []
          },
          "execution_count": 144
        }
      ]
    },
    {
      "cell_type": "code",
      "metadata": {
        "id": "DIybbHw5Q2f0",
        "colab_type": "code",
        "colab": {}
      },
      "source": [
        "from sklearn.preprocessing import LabelEncoder\n",
        "train_data1 = train_X_df_pd[train_cat_cols].apply(LabelEncoder().fit_transform)\n",
        "test_data1 = test_X_df_pd[test_cat_cols].apply(LabelEncoder().fit_transform)"
      ],
      "execution_count": 145,
      "outputs": []
    },
    {
      "cell_type": "code",
      "metadata": {
        "id": "l0IKuyGRSCts",
        "colab_type": "code",
        "colab": {}
      },
      "source": [
        "#dataf=data1.join(X_df_pd[num_cols])\n",
        "train_dataf=(train_X_df_pd[train_num_cols]).join(train_data1)\n",
        "test_dataf=(test_X_df_pd[test_num_cols]).join(test_data1)"
      ],
      "execution_count": 146,
      "outputs": []
    },
    {
      "cell_type": "code",
      "metadata": {
        "id": "7Dpmel8rTZzk",
        "colab_type": "code",
        "colab": {}
      },
      "source": [
        "test_dataf.head()"
      ],
      "execution_count": null,
      "outputs": []
    },
    {
      "cell_type": "code",
      "metadata": {
        "id": "ZaxKgSuu2hA5",
        "colab_type": "code",
        "colab": {}
      },
      "source": [
        "train_dataf.head()"
      ],
      "execution_count": null,
      "outputs": []
    },
    {
      "cell_type": "code",
      "metadata": {
        "id": "1TOliSnr3oOo",
        "colab_type": "code",
        "colab": {}
      },
      "source": [
        "train_X_final=train_dataf\n",
        "test_X_final=test_dataf\n",
        "train_y_final=train_y.values"
      ],
      "execution_count": 149,
      "outputs": []
    },
    {
      "cell_type": "code",
      "metadata": {
        "id": "SL4t3rk23ymI",
        "colab_type": "code",
        "colab": {}
      },
      "source": [
        "from sklearn.preprocessing import StandardScaler\n",
        "sc = StandardScaler()\n",
        "train_X_final_std = sc.fit_transform(train_X_final)\n",
        "test_X_final_std = sc.transform(test_X_final)"
      ],
      "execution_count": 150,
      "outputs": []
    },
    {
      "cell_type": "code",
      "metadata": {
        "id": "GPmQ2Slw4IZY",
        "colab_type": "code",
        "colab": {
          "base_uri": "https://localhost:8080/",
          "height": 104
        },
        "outputId": "e7802942-64e6-497f-9b25-28136e1bc9a7"
      },
      "source": [
        "from sklearn.linear_model import LogisticRegression\n",
        "classifier = LogisticRegression(random_state = 0)\n",
        "classifier.fit(train_X_final, train_y_final)#y_train is default standardized with 0 and 1"
      ],
      "execution_count": 151,
      "outputs": [
        {
          "output_type": "execute_result",
          "data": {
            "text/plain": [
              "LogisticRegression(C=1.0, class_weight=None, dual=False, fit_intercept=True,\n",
              "                   intercept_scaling=1, l1_ratio=None, max_iter=100,\n",
              "                   multi_class='auto', n_jobs=None, penalty='l2',\n",
              "                   random_state=0, solver='lbfgs', tol=0.0001, verbose=0,\n",
              "                   warm_start=False)"
            ]
          },
          "metadata": {
            "tags": []
          },
          "execution_count": 151
        }
      ]
    },
    {
      "cell_type": "code",
      "metadata": {
        "id": "SxOzQMhR4obh",
        "colab_type": "code",
        "colab": {}
      },
      "source": [
        "test_y_pred = classifier.predict(test_X_final_std)"
      ],
      "execution_count": 152,
      "outputs": []
    },
    {
      "cell_type": "code",
      "metadata": {
        "id": "g9Zed1LC6kpr",
        "colab_type": "code",
        "colab": {}
      },
      "source": [
        "features_list=['encounter_id', 'patient_id', 'race', 'gender', 'age', 'admission_type_id', 'discharge_disposition_id',\n",
        "                  'admission_source_id', 'time_in_hospital', 'tel_3', 'tel_4', 'tel_5', 'tel_6', 'tel_7',\n",
        "                  'tel_8', 'tel_9', 'tel_10', 'tel_11', 'tel_12', 'tel_13', 'tel_14', 'tel_15', 'tel_18', 'tel_43', \n",
        "                  'tel_48', 'tel_49']"
      ],
      "execution_count": 153,
      "outputs": []
    },
    {
      "cell_type": "code",
      "metadata": {
        "id": "c3JAE7eK6fSD",
        "colab_type": "code",
        "colab": {}
      },
      "source": [
        "features_list.remove('encounter_id')"
      ],
      "execution_count": 154,
      "outputs": []
    },
    {
      "cell_type": "code",
      "metadata": {
        "id": "sCWTnICf5S8E",
        "colab_type": "code",
        "colab": {
          "base_uri": "https://localhost:8080/",
          "height": 173
        },
        "outputId": "a9f23b5e-d63e-4067-8d5f-9a8c1cebeef2"
      },
      "source": [
        "test_X_final_only_eid=test_X_final.drop(features_list,axis=1)\n",
        "test_X_final_only_eid.head()\n",
        "test_y_pred_df=pd.DataFrame(test_y_pred)\n",
        "test_y_pred_df.head()\n",
        "final_df=pd.concat([test_X_final_only_eid,test_y_pred_df],axis=1)\n",
        "final_df.columns=['encounter_id','diabetesMed']\n",
        "print(final_df.head())\n",
        "final_df.diabetesMed.value_counts()"
      ],
      "execution_count": 156,
      "outputs": [
        {
          "output_type": "stream",
          "text": [
            "     encounter_id  diabetesMed\n",
            "7965     86749284            0\n",
            "7966    135741342            0\n",
            "7967     65660634            0\n",
            "7968     73248582            0\n",
            "7969     48791304            0\n"
          ],
          "name": "stdout"
        },
        {
          "output_type": "execute_result",
          "data": {
            "text/plain": [
              "0    6501\n",
              "1    1469\n",
              "Name: diabetesMed, dtype: int64"
            ]
          },
          "metadata": {
            "tags": []
          },
          "execution_count": 156
        }
      ]
    },
    {
      "cell_type": "code",
      "metadata": {
        "id": "r487gODxI8_G",
        "colab_type": "code",
        "colab": {
          "base_uri": "https://localhost:8080/",
          "height": 398
        },
        "outputId": "d6171905-237c-4829-c24f-fad20fc24e6c"
      },
      "source": [
        "print(final_df.dtypes)\n",
        "convert_dict = {'encounter_id': object, \n",
        "                'diabetesMed': int\n",
        "}\n",
        "df = final_df.astype(convert_dict)"
      ],
      "execution_count": 168,
      "outputs": [
        {
          "output_type": "stream",
          "text": [
            "encounter_id     object\n",
            "diabetesMed     float64\n",
            "dtype: object\n"
          ],
          "name": "stdout"
        },
        {
          "output_type": "error",
          "ename": "ValueError",
          "evalue": "ignored",
          "traceback": [
            "\u001b[0;31m---------------------------------------------------------------------------\u001b[0m",
            "\u001b[0;31mValueError\u001b[0m                                Traceback (most recent call last)",
            "\u001b[0;32m<ipython-input-168-f55a9755044f>\u001b[0m in \u001b[0;36m<module>\u001b[0;34m()\u001b[0m\n\u001b[1;32m      3\u001b[0m                 \u001b[0;34m'diabetesMed'\u001b[0m\u001b[0;34m:\u001b[0m \u001b[0mint\u001b[0m\u001b[0;34m\u001b[0m\u001b[0;34m\u001b[0m\u001b[0m\n\u001b[1;32m      4\u001b[0m }\n\u001b[0;32m----> 5\u001b[0;31m \u001b[0mdf\u001b[0m \u001b[0;34m=\u001b[0m \u001b[0mfinal_df\u001b[0m\u001b[0;34m.\u001b[0m\u001b[0mastype\u001b[0m\u001b[0;34m(\u001b[0m\u001b[0mconvert_dict\u001b[0m\u001b[0;34m)\u001b[0m\u001b[0;34m\u001b[0m\u001b[0;34m\u001b[0m\u001b[0m\n\u001b[0m",
            "\u001b[0;32m/usr/local/lib/python3.6/dist-packages/pandas/core/generic.py\u001b[0m in \u001b[0;36mastype\u001b[0;34m(self, dtype, copy, errors)\u001b[0m\n\u001b[1;32m   5681\u001b[0m                 \u001b[0;32mif\u001b[0m \u001b[0mcol_name\u001b[0m \u001b[0;32min\u001b[0m \u001b[0mdtype\u001b[0m\u001b[0;34m:\u001b[0m\u001b[0;34m\u001b[0m\u001b[0;34m\u001b[0m\u001b[0m\n\u001b[1;32m   5682\u001b[0m                     results.append(\n\u001b[0;32m-> 5683\u001b[0;31m                         \u001b[0mcol\u001b[0m\u001b[0;34m.\u001b[0m\u001b[0mastype\u001b[0m\u001b[0;34m(\u001b[0m\u001b[0mdtype\u001b[0m\u001b[0;34m=\u001b[0m\u001b[0mdtype\u001b[0m\u001b[0;34m[\u001b[0m\u001b[0mcol_name\u001b[0m\u001b[0;34m]\u001b[0m\u001b[0;34m,\u001b[0m \u001b[0mcopy\u001b[0m\u001b[0;34m=\u001b[0m\u001b[0mcopy\u001b[0m\u001b[0;34m,\u001b[0m \u001b[0merrors\u001b[0m\u001b[0;34m=\u001b[0m\u001b[0merrors\u001b[0m\u001b[0;34m)\u001b[0m\u001b[0;34m\u001b[0m\u001b[0;34m\u001b[0m\u001b[0m\n\u001b[0m\u001b[1;32m   5684\u001b[0m                     )\n\u001b[1;32m   5685\u001b[0m                 \u001b[0;32melse\u001b[0m\u001b[0;34m:\u001b[0m\u001b[0;34m\u001b[0m\u001b[0;34m\u001b[0m\u001b[0m\n",
            "\u001b[0;32m/usr/local/lib/python3.6/dist-packages/pandas/core/generic.py\u001b[0m in \u001b[0;36mastype\u001b[0;34m(self, dtype, copy, errors)\u001b[0m\n\u001b[1;32m   5696\u001b[0m         \u001b[0;32melse\u001b[0m\u001b[0;34m:\u001b[0m\u001b[0;34m\u001b[0m\u001b[0;34m\u001b[0m\u001b[0m\n\u001b[1;32m   5697\u001b[0m             \u001b[0;31m# else, only a single dtype is given\u001b[0m\u001b[0;34m\u001b[0m\u001b[0;34m\u001b[0m\u001b[0;34m\u001b[0m\u001b[0m\n\u001b[0;32m-> 5698\u001b[0;31m             \u001b[0mnew_data\u001b[0m \u001b[0;34m=\u001b[0m \u001b[0mself\u001b[0m\u001b[0;34m.\u001b[0m\u001b[0m_data\u001b[0m\u001b[0;34m.\u001b[0m\u001b[0mastype\u001b[0m\u001b[0;34m(\u001b[0m\u001b[0mdtype\u001b[0m\u001b[0;34m=\u001b[0m\u001b[0mdtype\u001b[0m\u001b[0;34m,\u001b[0m \u001b[0mcopy\u001b[0m\u001b[0;34m=\u001b[0m\u001b[0mcopy\u001b[0m\u001b[0;34m,\u001b[0m \u001b[0merrors\u001b[0m\u001b[0;34m=\u001b[0m\u001b[0merrors\u001b[0m\u001b[0;34m)\u001b[0m\u001b[0;34m\u001b[0m\u001b[0;34m\u001b[0m\u001b[0m\n\u001b[0m\u001b[1;32m   5699\u001b[0m             \u001b[0;32mreturn\u001b[0m \u001b[0mself\u001b[0m\u001b[0;34m.\u001b[0m\u001b[0m_constructor\u001b[0m\u001b[0;34m(\u001b[0m\u001b[0mnew_data\u001b[0m\u001b[0;34m)\u001b[0m\u001b[0;34m.\u001b[0m\u001b[0m__finalize__\u001b[0m\u001b[0;34m(\u001b[0m\u001b[0mself\u001b[0m\u001b[0;34m)\u001b[0m\u001b[0;34m\u001b[0m\u001b[0;34m\u001b[0m\u001b[0m\n\u001b[1;32m   5700\u001b[0m \u001b[0;34m\u001b[0m\u001b[0m\n",
            "\u001b[0;32m/usr/local/lib/python3.6/dist-packages/pandas/core/internals/managers.py\u001b[0m in \u001b[0;36mastype\u001b[0;34m(self, dtype, copy, errors)\u001b[0m\n\u001b[1;32m    580\u001b[0m \u001b[0;34m\u001b[0m\u001b[0m\n\u001b[1;32m    581\u001b[0m     \u001b[0;32mdef\u001b[0m \u001b[0mastype\u001b[0m\u001b[0;34m(\u001b[0m\u001b[0mself\u001b[0m\u001b[0;34m,\u001b[0m \u001b[0mdtype\u001b[0m\u001b[0;34m,\u001b[0m \u001b[0mcopy\u001b[0m\u001b[0;34m:\u001b[0m \u001b[0mbool\u001b[0m \u001b[0;34m=\u001b[0m \u001b[0;32mFalse\u001b[0m\u001b[0;34m,\u001b[0m \u001b[0merrors\u001b[0m\u001b[0;34m:\u001b[0m \u001b[0mstr\u001b[0m \u001b[0;34m=\u001b[0m \u001b[0;34m\"raise\"\u001b[0m\u001b[0;34m)\u001b[0m\u001b[0;34m:\u001b[0m\u001b[0;34m\u001b[0m\u001b[0;34m\u001b[0m\u001b[0m\n\u001b[0;32m--> 582\u001b[0;31m         \u001b[0;32mreturn\u001b[0m \u001b[0mself\u001b[0m\u001b[0;34m.\u001b[0m\u001b[0mapply\u001b[0m\u001b[0;34m(\u001b[0m\u001b[0;34m\"astype\"\u001b[0m\u001b[0;34m,\u001b[0m \u001b[0mdtype\u001b[0m\u001b[0;34m=\u001b[0m\u001b[0mdtype\u001b[0m\u001b[0;34m,\u001b[0m \u001b[0mcopy\u001b[0m\u001b[0;34m=\u001b[0m\u001b[0mcopy\u001b[0m\u001b[0;34m,\u001b[0m \u001b[0merrors\u001b[0m\u001b[0;34m=\u001b[0m\u001b[0merrors\u001b[0m\u001b[0;34m)\u001b[0m\u001b[0;34m\u001b[0m\u001b[0;34m\u001b[0m\u001b[0m\n\u001b[0m\u001b[1;32m    583\u001b[0m \u001b[0;34m\u001b[0m\u001b[0m\n\u001b[1;32m    584\u001b[0m     \u001b[0;32mdef\u001b[0m \u001b[0mconvert\u001b[0m\u001b[0;34m(\u001b[0m\u001b[0mself\u001b[0m\u001b[0;34m,\u001b[0m \u001b[0;34m**\u001b[0m\u001b[0mkwargs\u001b[0m\u001b[0;34m)\u001b[0m\u001b[0;34m:\u001b[0m\u001b[0;34m\u001b[0m\u001b[0;34m\u001b[0m\u001b[0m\n",
            "\u001b[0;32m/usr/local/lib/python3.6/dist-packages/pandas/core/internals/managers.py\u001b[0m in \u001b[0;36mapply\u001b[0;34m(self, f, filter, **kwargs)\u001b[0m\n\u001b[1;32m    440\u001b[0m                 \u001b[0mapplied\u001b[0m \u001b[0;34m=\u001b[0m \u001b[0mb\u001b[0m\u001b[0;34m.\u001b[0m\u001b[0mapply\u001b[0m\u001b[0;34m(\u001b[0m\u001b[0mf\u001b[0m\u001b[0;34m,\u001b[0m \u001b[0;34m**\u001b[0m\u001b[0mkwargs\u001b[0m\u001b[0;34m)\u001b[0m\u001b[0;34m\u001b[0m\u001b[0;34m\u001b[0m\u001b[0m\n\u001b[1;32m    441\u001b[0m             \u001b[0;32melse\u001b[0m\u001b[0;34m:\u001b[0m\u001b[0;34m\u001b[0m\u001b[0;34m\u001b[0m\u001b[0m\n\u001b[0;32m--> 442\u001b[0;31m                 \u001b[0mapplied\u001b[0m \u001b[0;34m=\u001b[0m \u001b[0mgetattr\u001b[0m\u001b[0;34m(\u001b[0m\u001b[0mb\u001b[0m\u001b[0;34m,\u001b[0m \u001b[0mf\u001b[0m\u001b[0;34m)\u001b[0m\u001b[0;34m(\u001b[0m\u001b[0;34m**\u001b[0m\u001b[0mkwargs\u001b[0m\u001b[0;34m)\u001b[0m\u001b[0;34m\u001b[0m\u001b[0;34m\u001b[0m\u001b[0m\n\u001b[0m\u001b[1;32m    443\u001b[0m             \u001b[0mresult_blocks\u001b[0m \u001b[0;34m=\u001b[0m \u001b[0m_extend_blocks\u001b[0m\u001b[0;34m(\u001b[0m\u001b[0mapplied\u001b[0m\u001b[0;34m,\u001b[0m \u001b[0mresult_blocks\u001b[0m\u001b[0;34m)\u001b[0m\u001b[0;34m\u001b[0m\u001b[0;34m\u001b[0m\u001b[0m\n\u001b[1;32m    444\u001b[0m \u001b[0;34m\u001b[0m\u001b[0m\n",
            "\u001b[0;32m/usr/local/lib/python3.6/dist-packages/pandas/core/internals/blocks.py\u001b[0m in \u001b[0;36mastype\u001b[0;34m(self, dtype, copy, errors)\u001b[0m\n\u001b[1;32m    623\u001b[0m             \u001b[0mvals1d\u001b[0m \u001b[0;34m=\u001b[0m \u001b[0mvalues\u001b[0m\u001b[0;34m.\u001b[0m\u001b[0mravel\u001b[0m\u001b[0;34m(\u001b[0m\u001b[0;34m)\u001b[0m\u001b[0;34m\u001b[0m\u001b[0;34m\u001b[0m\u001b[0m\n\u001b[1;32m    624\u001b[0m             \u001b[0;32mtry\u001b[0m\u001b[0;34m:\u001b[0m\u001b[0;34m\u001b[0m\u001b[0;34m\u001b[0m\u001b[0m\n\u001b[0;32m--> 625\u001b[0;31m                 \u001b[0mvalues\u001b[0m \u001b[0;34m=\u001b[0m \u001b[0mastype_nansafe\u001b[0m\u001b[0;34m(\u001b[0m\u001b[0mvals1d\u001b[0m\u001b[0;34m,\u001b[0m \u001b[0mdtype\u001b[0m\u001b[0;34m,\u001b[0m \u001b[0mcopy\u001b[0m\u001b[0;34m=\u001b[0m\u001b[0;32mTrue\u001b[0m\u001b[0;34m)\u001b[0m\u001b[0;34m\u001b[0m\u001b[0;34m\u001b[0m\u001b[0m\n\u001b[0m\u001b[1;32m    626\u001b[0m             \u001b[0;32mexcept\u001b[0m \u001b[0;34m(\u001b[0m\u001b[0mValueError\u001b[0m\u001b[0;34m,\u001b[0m \u001b[0mTypeError\u001b[0m\u001b[0;34m)\u001b[0m\u001b[0;34m:\u001b[0m\u001b[0;34m\u001b[0m\u001b[0;34m\u001b[0m\u001b[0m\n\u001b[1;32m    627\u001b[0m                 \u001b[0;31m# e.g. astype_nansafe can fail on object-dtype of strings\u001b[0m\u001b[0;34m\u001b[0m\u001b[0;34m\u001b[0m\u001b[0;34m\u001b[0m\u001b[0m\n",
            "\u001b[0;32m/usr/local/lib/python3.6/dist-packages/pandas/core/dtypes/cast.py\u001b[0m in \u001b[0;36mastype_nansafe\u001b[0;34m(arr, dtype, copy, skipna)\u001b[0m\n\u001b[1;32m    866\u001b[0m \u001b[0;34m\u001b[0m\u001b[0m\n\u001b[1;32m    867\u001b[0m         \u001b[0;32mif\u001b[0m \u001b[0;32mnot\u001b[0m \u001b[0mnp\u001b[0m\u001b[0;34m.\u001b[0m\u001b[0misfinite\u001b[0m\u001b[0;34m(\u001b[0m\u001b[0marr\u001b[0m\u001b[0;34m)\u001b[0m\u001b[0;34m.\u001b[0m\u001b[0mall\u001b[0m\u001b[0;34m(\u001b[0m\u001b[0;34m)\u001b[0m\u001b[0;34m:\u001b[0m\u001b[0;34m\u001b[0m\u001b[0;34m\u001b[0m\u001b[0m\n\u001b[0;32m--> 868\u001b[0;31m             \u001b[0;32mraise\u001b[0m \u001b[0mValueError\u001b[0m\u001b[0;34m(\u001b[0m\u001b[0;34m\"Cannot convert non-finite values (NA or inf) to integer\"\u001b[0m\u001b[0;34m)\u001b[0m\u001b[0;34m\u001b[0m\u001b[0;34m\u001b[0m\u001b[0m\n\u001b[0m\u001b[1;32m    869\u001b[0m \u001b[0;34m\u001b[0m\u001b[0m\n\u001b[1;32m    870\u001b[0m     \u001b[0;32melif\u001b[0m \u001b[0mis_object_dtype\u001b[0m\u001b[0;34m(\u001b[0m\u001b[0marr\u001b[0m\u001b[0;34m)\u001b[0m\u001b[0;34m:\u001b[0m\u001b[0;34m\u001b[0m\u001b[0;34m\u001b[0m\u001b[0m\n",
            "\u001b[0;31mValueError\u001b[0m: Cannot convert non-finite values (NA or inf) to integer"
          ]
        }
      ]
    },
    {
      "cell_type": "code",
      "metadata": {
        "id": "jni7TwIH5Cjv",
        "colab_type": "code",
        "colab": {
          "base_uri": "https://localhost:8080/",
          "height": 347
        },
        "outputId": "ff3d6624-01c2-4062-cbd1-a1de2b775f42"
      },
      "source": [
        "train_X_final_only_eid=train_X_final.drop(features_list,axis=1)\n",
        "train_X_final_only_eid.head()\n",
        "test_y_pred_df=pd.DataFrame(test_y_pred)\n",
        "test_y_pred_df.head()\n",
        "final_df=pd.concat([train_X_final_only_eid,test_y_pred_df],axis=1)\n",
        "final_df.columns=['encounter_id','diabetesMed']\n",
        "print(final_df.head(15))\n",
        "final_df.diabetesMed.value_counts()"
      ],
      "execution_count": 157,
      "outputs": [
        {
          "output_type": "stream",
          "text": [
            "   encounter_id  diabetesMed\n",
            "0     178974720          1.0\n",
            "1     111231666          0.0\n",
            "2     134751624          0.0\n",
            "3     254196636          1.0\n",
            "4     432617750          0.0\n",
            "5     139109832          0.0\n",
            "6     290639712          1.0\n",
            "7     266395878          0.0\n",
            "8     140215032          0.0\n",
            "9     124132824          0.0\n",
            "10    360825710          0.0\n",
            "11    130411104          0.0\n",
            "12    131913252          0.0\n",
            "13    158271282          1.0\n",
            "14    125289972          0.0\n"
          ],
          "name": "stdout"
        },
        {
          "output_type": "execute_result",
          "data": {
            "text/plain": [
              "0.0    6501\n",
              "1.0    1469\n",
              "Name: diabetesMed, dtype: int64"
            ]
          },
          "metadata": {
            "tags": []
          },
          "execution_count": 157
        }
      ]
    },
    {
      "cell_type": "code",
      "metadata": {
        "id": "V2Whk--0S9Qg",
        "colab_type": "code",
        "colab": {}
      },
      "source": [
        "from sklearn.metrics import confusion_matrix, accuracy_score\n",
        "cm = confusion_matrix(y_test, y_pred)\n",
        "print(cm)\n",
        "accuracy_score(y_test, y_pred)"
      ],
      "execution_count": null,
      "outputs": []
    },
    {
      "cell_type": "code",
      "metadata": {
        "id": "UOCI-_CSSsbO",
        "colab_type": "code",
        "colab": {}
      },
      "source": [
        "from sklearn.model_selection import train_test_split\n",
        "X_train, X_test, y_train, y_test = train_test_split(X_final, y_final, test_size = 0.2, random_state = 1)"
      ],
      "execution_count": null,
      "outputs": []
    },
    {
      "cell_type": "code",
      "metadata": {
        "id": "jEUj5z8sTiyL",
        "colab_type": "code",
        "colab": {
          "base_uri": "https://localhost:8080/",
          "height": 87
        },
        "outputId": "6f49a9bd-a5a0-4c30-a968-9ecef743c273"
      },
      "source": [
        "print(type(X_train))\n",
        "print(type(y_train))\n",
        "print(type(X_test))\n",
        "print(type(y_test))\n",
        "#y.value_counts()\n",
        "#type(y_test)\n",
        "#type(X_final)\n",
        "#pd.DataFrame(y_test, columns = features)"
      ],
      "execution_count": null,
      "outputs": [
        {
          "output_type": "stream",
          "text": [
            "<class 'pandas.core.frame.DataFrame'>\n",
            "<class 'numpy.ndarray'>\n",
            "<class 'pandas.core.frame.DataFrame'>\n",
            "<class 'numpy.ndarray'>\n"
          ],
          "name": "stdout"
        }
      ]
    },
    {
      "cell_type": "code",
      "metadata": {
        "id": "Bi60Fq5qUHci",
        "colab_type": "code",
        "colab": {}
      },
      "source": [
        "from sklearn.preprocessing import StandardScaler\n",
        "sc = StandardScaler()\n",
        "X_train_std = sc.fit_transform(X_train)\n",
        "X_test_std = sc.transform(X_test)"
      ],
      "execution_count": null,
      "outputs": []
    },
    {
      "cell_type": "code",
      "metadata": {
        "id": "2P8GnCRyU1Xa",
        "colab_type": "code",
        "colab": {
          "base_uri": "https://localhost:8080/",
          "height": 243
        },
        "outputId": "9afc6e13-f7ad-440d-b5b7-3274c2c4252c"
      },
      "source": [
        "print(X_train_std)"
      ],
      "execution_count": null,
      "outputs": [
        {
          "output_type": "stream",
          "text": [
            "[[ 1.52880495  0.72127335  0.87071818 ... -0.09984252  1.13865811\n",
            "   0.85112406]\n",
            " [-0.6579293  -1.08512553 -0.69648123 ... -0.09984252 -0.87822674\n",
            "   0.85112406]\n",
            " [ 1.68932376  2.39711334 -0.69648123 ... -0.09984252 -0.87822674\n",
            "   0.85112406]\n",
            " ...\n",
            " [-0.99077548 -0.92562194 -0.69648123 ... -0.09984252  1.13865811\n",
            "   0.85112406]\n",
            " [-1.37814751  0.90301791  0.87071818 ... -0.09984252  1.13865811\n",
            "   0.85112406]\n",
            " [-1.00140031  0.58802339  3.22151729 ... -0.09984252  1.13865811\n",
            "  -0.61407062]]\n"
          ],
          "name": "stdout"
        }
      ]
    },
    {
      "cell_type": "code",
      "metadata": {
        "id": "fcsWjKEdVNoi",
        "colab_type": "code",
        "colab": {
          "base_uri": "https://localhost:8080/",
          "height": 243
        },
        "outputId": "579c0b9f-35ea-4ef2-e7d4-92dc4c4b3baa"
      },
      "source": [
        "print(X_test_std)"
      ],
      "execution_count": null,
      "outputs": [
        {
          "output_type": "stream",
          "text": [
            "[[ 1.53449826  1.32643265  0.87071818 ... -0.09984252 -0.87822674\n",
            "  -2.0792653 ]\n",
            " [ 0.53490649 -0.74121888  0.87071818 ... -0.09984252 -0.87822674\n",
            "   0.85112406]\n",
            " [-0.30073441 -0.92414849 -0.69648123 ... -0.09984252  1.13865811\n",
            "   0.85112406]\n",
            " ...\n",
            " [-0.08028629 -0.69490992  0.87071818 ... -0.09984252 -0.87822674\n",
            "   0.85112406]\n",
            " [-0.63340405 -0.51699842 -0.69648123 ... -0.09984252 -0.87822674\n",
            "  -2.0792653 ]\n",
            " [ 0.21436906 -1.29183982 -0.69648123 ... -0.09984252 -0.87822674\n",
            "  -0.61407062]]\n"
          ],
          "name": "stdout"
        }
      ]
    },
    {
      "cell_type": "code",
      "metadata": {
        "id": "7Yl8tWSjVjAB",
        "colab_type": "code",
        "colab": {
          "base_uri": "https://localhost:8080/",
          "height": 104
        },
        "outputId": "c507f5ad-b7fb-469f-d8ef-02bb4f1bf1c8"
      },
      "source": [
        "from sklearn.linear_model import LogisticRegression\n",
        "classifier = LogisticRegression(random_state = 0)\n",
        "classifier.fit(X_train_std, y_train)#y_train is default standardized with 0 and 1"
      ],
      "execution_count": null,
      "outputs": [
        {
          "output_type": "execute_result",
          "data": {
            "text/plain": [
              "LogisticRegression(C=1.0, class_weight=None, dual=False, fit_intercept=True,\n",
              "                   intercept_scaling=1, l1_ratio=None, max_iter=100,\n",
              "                   multi_class='auto', n_jobs=None, penalty='l2',\n",
              "                   random_state=0, solver='lbfgs', tol=0.0001, verbose=0,\n",
              "                   warm_start=False)"
            ]
          },
          "metadata": {
            "tags": []
          },
          "execution_count": 89
        }
      ]
    },
    {
      "cell_type": "code",
      "metadata": {
        "id": "VoR5O0iyVouB",
        "colab_type": "code",
        "colab": {
          "base_uri": "https://localhost:8080/",
          "height": 139
        },
        "outputId": "92c69c54-4af1-4432-bdbc-66a3025efcb6"
      },
      "source": [
        "y_pred = classifier.predict(X_test_std)\n",
        "print(np.concatenate((y_pred.reshape(len(y_pred),1), y_test.reshape(len(y_test),1)),1))"
      ],
      "execution_count": null,
      "outputs": [
        {
          "output_type": "stream",
          "text": [
            "[[1 1]\n",
            " [1 1]\n",
            " [1 1]\n",
            " ...\n",
            " [1 1]\n",
            " [1 1]\n",
            " [1 1]]\n"
          ],
          "name": "stdout"
        }
      ]
    },
    {
      "cell_type": "code",
      "metadata": {
        "id": "iORvS7TpV5Z4",
        "colab_type": "code",
        "colab": {
          "base_uri": "https://localhost:8080/",
          "height": 69
        },
        "outputId": "8b72288e-8d94-47ae-bc69-0d32893611f6"
      },
      "source": [
        "from sklearn.metrics import confusion_matrix, accuracy_score\n",
        "cm = confusion_matrix(y_test, y_pred)\n",
        "print(cm)\n",
        "accuracy_score(y_test, y_pred)"
      ],
      "execution_count": null,
      "outputs": [
        {
          "output_type": "stream",
          "text": [
            "[[  88  218]\n",
            " [  77 2557]]\n"
          ],
          "name": "stdout"
        },
        {
          "output_type": "execute_result",
          "data": {
            "text/plain": [
              "0.8996598639455783"
            ]
          },
          "metadata": {
            "tags": []
          },
          "execution_count": 91
        }
      ]
    },
    {
      "cell_type": "code",
      "metadata": {
        "id": "LHVI0GwLlDMv",
        "colab_type": "code",
        "colab": {
          "base_uri": "https://localhost:8080/",
          "height": 173
        },
        "outputId": "d724fb4d-f18f-4faf-ecd8-113d61a071a5"
      },
      "source": [
        "from sklearn.metrics import classification_report,confusion_matrix, accuracy_score\n",
        "print(classification_report(y_test,y_pred))"
      ],
      "execution_count": null,
      "outputs": [
        {
          "output_type": "stream",
          "text": [
            "              precision    recall  f1-score   support\n",
            "\n",
            "           0       0.53      0.29      0.37       306\n",
            "           1       0.92      0.97      0.95      2634\n",
            "\n",
            "    accuracy                           0.90      2940\n",
            "   macro avg       0.73      0.63      0.66      2940\n",
            "weighted avg       0.88      0.90      0.89      2940\n",
            "\n"
          ],
          "name": "stdout"
        }
      ]
    },
    {
      "cell_type": "code",
      "metadata": {
        "id": "mud3u5jrrSIz",
        "colab_type": "code",
        "colab": {
          "base_uri": "https://localhost:8080/",
          "height": 222
        },
        "outputId": "cffa1b62-dd72-4037-c5d6-3a8461a3f1f1"
      },
      "source": [
        "X_test_std_df = pd.DataFrame(X_test_std)\n",
        "X_test_std_df.head()\n",
        "#X_test_with_pred_df=pd.concat([X_test_std_df,y_test_df],axis=1)\n",
        "#X_test_with_pred_df.head()\n"
      ],
      "execution_count": null,
      "outputs": [
        {
          "output_type": "execute_result",
          "data": {
            "text/html": [
              "<div>\n",
              "<style scoped>\n",
              "    .dataframe tbody tr th:only-of-type {\n",
              "        vertical-align: middle;\n",
              "    }\n",
              "\n",
              "    .dataframe tbody tr th {\n",
              "        vertical-align: top;\n",
              "    }\n",
              "\n",
              "    .dataframe thead th {\n",
              "        text-align: right;\n",
              "    }\n",
              "</style>\n",
              "<table border=\"1\" class=\"dataframe\">\n",
              "  <thead>\n",
              "    <tr style=\"text-align: right;\">\n",
              "      <th></th>\n",
              "      <th>0</th>\n",
              "      <th>1</th>\n",
              "      <th>2</th>\n",
              "      <th>3</th>\n",
              "      <th>4</th>\n",
              "      <th>5</th>\n",
              "      <th>6</th>\n",
              "      <th>7</th>\n",
              "      <th>8</th>\n",
              "      <th>9</th>\n",
              "      <th>10</th>\n",
              "      <th>11</th>\n",
              "      <th>12</th>\n",
              "      <th>13</th>\n",
              "      <th>14</th>\n",
              "      <th>15</th>\n",
              "      <th>16</th>\n",
              "      <th>17</th>\n",
              "      <th>18</th>\n",
              "      <th>19</th>\n",
              "      <th>20</th>\n",
              "      <th>21</th>\n",
              "      <th>22</th>\n",
              "      <th>23</th>\n",
              "      <th>24</th>\n",
              "      <th>25</th>\n",
              "    </tr>\n",
              "  </thead>\n",
              "  <tbody>\n",
              "    <tr>\n",
              "      <th>0</th>\n",
              "      <td>1.534498</td>\n",
              "      <td>1.326433</td>\n",
              "      <td>0.870718</td>\n",
              "      <td>0.636225</td>\n",
              "      <td>-1.270618</td>\n",
              "      <td>0.237876</td>\n",
              "      <td>-0.231452</td>\n",
              "      <td>0.981055</td>\n",
              "      <td>2.586063</td>\n",
              "      <td>-0.316756</td>\n",
              "      <td>0.797804</td>\n",
              "      <td>-0.513207</td>\n",
              "      <td>0.692530</td>\n",
              "      <td>0.370191</td>\n",
              "      <td>-0.928541</td>\n",
              "      <td>-0.750135</td>\n",
              "      <td>1.047630</td>\n",
              "      <td>-0.917749</td>\n",
              "      <td>1.181360</td>\n",
              "      <td>0.03445</td>\n",
              "      <td>0.20062</td>\n",
              "      <td>-0.509553</td>\n",
              "      <td>-0.027679</td>\n",
              "      <td>-0.099843</td>\n",
              "      <td>-0.878227</td>\n",
              "      <td>-2.079265</td>\n",
              "    </tr>\n",
              "    <tr>\n",
              "      <th>1</th>\n",
              "      <td>0.534906</td>\n",
              "      <td>-0.741219</td>\n",
              "      <td>0.870718</td>\n",
              "      <td>-0.489624</td>\n",
              "      <td>-1.270618</td>\n",
              "      <td>-1.135299</td>\n",
              "      <td>-1.170988</td>\n",
              "      <td>1.562956</td>\n",
              "      <td>-0.843033</td>\n",
              "      <td>-0.316756</td>\n",
              "      <td>-0.272124</td>\n",
              "      <td>-0.513207</td>\n",
              "      <td>-0.958308</td>\n",
              "      <td>0.370191</td>\n",
              "      <td>1.076958</td>\n",
              "      <td>-0.750135</td>\n",
              "      <td>-0.317010</td>\n",
              "      <td>-0.217990</td>\n",
              "      <td>2.575219</td>\n",
              "      <td>0.03445</td>\n",
              "      <td>0.20062</td>\n",
              "      <td>-0.509553</td>\n",
              "      <td>-0.027679</td>\n",
              "      <td>-0.099843</td>\n",
              "      <td>-0.878227</td>\n",
              "      <td>0.851124</td>\n",
              "    </tr>\n",
              "    <tr>\n",
              "      <th>2</th>\n",
              "      <td>-0.300734</td>\n",
              "      <td>-0.924148</td>\n",
              "      <td>-0.696481</td>\n",
              "      <td>-0.489624</td>\n",
              "      <td>0.501419</td>\n",
              "      <td>0.924463</td>\n",
              "      <td>0.312490</td>\n",
              "      <td>0.399154</td>\n",
              "      <td>-0.475630</td>\n",
              "      <td>-0.316756</td>\n",
              "      <td>-0.272124</td>\n",
              "      <td>-0.513207</td>\n",
              "      <td>0.692530</td>\n",
              "      <td>0.370191</td>\n",
              "      <td>1.076958</td>\n",
              "      <td>-0.750135</td>\n",
              "      <td>-0.420002</td>\n",
              "      <td>1.172557</td>\n",
              "      <td>-0.086500</td>\n",
              "      <td>0.03445</td>\n",
              "      <td>0.20062</td>\n",
              "      <td>1.656924</td>\n",
              "      <td>-0.027679</td>\n",
              "      <td>-0.099843</td>\n",
              "      <td>1.138658</td>\n",
              "      <td>0.851124</td>\n",
              "    </tr>\n",
              "    <tr>\n",
              "      <th>3</th>\n",
              "      <td>-0.474392</td>\n",
              "      <td>-0.699438</td>\n",
              "      <td>-0.696481</td>\n",
              "      <td>0.636225</td>\n",
              "      <td>0.501419</td>\n",
              "      <td>0.237876</td>\n",
              "      <td>-0.330350</td>\n",
              "      <td>-0.764649</td>\n",
              "      <td>-0.598098</td>\n",
              "      <td>-0.316756</td>\n",
              "      <td>-0.272124</td>\n",
              "      <td>1.062264</td>\n",
              "      <td>-2.609145</td>\n",
              "      <td>0.370191</td>\n",
              "      <td>-0.928541</td>\n",
              "      <td>1.172662</td>\n",
              "      <td>-0.059531</td>\n",
              "      <td>-0.209019</td>\n",
              "      <td>-1.173238</td>\n",
              "      <td>0.03445</td>\n",
              "      <td>0.20062</td>\n",
              "      <td>-0.509553</td>\n",
              "      <td>-0.027679</td>\n",
              "      <td>-0.099843</td>\n",
              "      <td>1.138658</td>\n",
              "      <td>-0.614071</td>\n",
              "    </tr>\n",
              "    <tr>\n",
              "      <th>4</th>\n",
              "      <td>-0.664210</td>\n",
              "      <td>-1.026528</td>\n",
              "      <td>-0.696481</td>\n",
              "      <td>-0.489624</td>\n",
              "      <td>0.501419</td>\n",
              "      <td>0.237876</td>\n",
              "      <td>0.065244</td>\n",
              "      <td>0.981055</td>\n",
              "      <td>-0.108227</td>\n",
              "      <td>0.375526</td>\n",
              "      <td>-0.272124</td>\n",
              "      <td>0.274528</td>\n",
              "      <td>0.692530</td>\n",
              "      <td>-2.038868</td>\n",
              "      <td>1.076958</td>\n",
              "      <td>0.531730</td>\n",
              "      <td>-0.059531</td>\n",
              "      <td>-0.289760</td>\n",
              "      <td>2.527970</td>\n",
              "      <td>0.03445</td>\n",
              "      <td>0.20062</td>\n",
              "      <td>-0.509553</td>\n",
              "      <td>-0.027679</td>\n",
              "      <td>-0.099843</td>\n",
              "      <td>1.138658</td>\n",
              "      <td>-0.614071</td>\n",
              "    </tr>\n",
              "  </tbody>\n",
              "</table>\n",
              "</div>"
            ],
            "text/plain": [
              "         0         1         2   ...        23        24        25\n",
              "0  1.534498  1.326433  0.870718  ... -0.099843 -0.878227 -2.079265\n",
              "1  0.534906 -0.741219  0.870718  ... -0.099843 -0.878227  0.851124\n",
              "2 -0.300734 -0.924148 -0.696481  ... -0.099843  1.138658  0.851124\n",
              "3 -0.474392 -0.699438 -0.696481  ... -0.099843  1.138658 -0.614071\n",
              "4 -0.664210 -1.026528 -0.696481  ... -0.099843  1.138658 -0.614071\n",
              "\n",
              "[5 rows x 26 columns]"
            ]
          },
          "metadata": {
            "tags": []
          },
          "execution_count": 121
        }
      ]
    },
    {
      "cell_type": "code",
      "metadata": {
        "id": "E9jX__t4msoF",
        "colab_type": "code",
        "colab": {}
      },
      "source": [
        "type(X_test)\n",
        "features_list.remove('encounter_id')"
      ],
      "execution_count": null,
      "outputs": []
    },
    {
      "cell_type": "code",
      "metadata": {
        "id": "5Ptux0SSpIWk",
        "colab_type": "code",
        "colab": {}
      },
      "source": [
        "X_test_only_eid = X_test.drop(features_list,axis=1)"
      ],
      "execution_count": null,
      "outputs": []
    },
    {
      "cell_type": "code",
      "metadata": {
        "id": "M8hGyShKpd0E",
        "colab_type": "code",
        "colab": {
          "base_uri": "https://localhost:8080/",
          "height": 222
        },
        "outputId": "1473372e-5475-41ce-fc6c-a1e026b14262"
      },
      "source": [
        "X_test_only_eid.head()\n",
        "X_test.head()"
      ],
      "execution_count": null,
      "outputs": [
        {
          "output_type": "execute_result",
          "data": {
            "text/html": [
              "<div>\n",
              "<style scoped>\n",
              "    .dataframe tbody tr th:only-of-type {\n",
              "        vertical-align: middle;\n",
              "    }\n",
              "\n",
              "    .dataframe tbody tr th {\n",
              "        vertical-align: top;\n",
              "    }\n",
              "\n",
              "    .dataframe thead th {\n",
              "        text-align: right;\n",
              "    }\n",
              "</style>\n",
              "<table border=\"1\" class=\"dataframe\">\n",
              "  <thead>\n",
              "    <tr style=\"text-align: right;\">\n",
              "      <th></th>\n",
              "      <th>encounter_id</th>\n",
              "      <th>patient_id</th>\n",
              "      <th>admission_type_id</th>\n",
              "      <th>discharge_disposition_id</th>\n",
              "      <th>admission_source_id</th>\n",
              "      <th>time_in_hospital</th>\n",
              "      <th>tel_3</th>\n",
              "      <th>tel_4</th>\n",
              "      <th>tel_5</th>\n",
              "      <th>tel_6</th>\n",
              "      <th>tel_7</th>\n",
              "      <th>tel_8</th>\n",
              "      <th>tel_12</th>\n",
              "      <th>race</th>\n",
              "      <th>gender</th>\n",
              "      <th>age</th>\n",
              "      <th>tel_9</th>\n",
              "      <th>tel_10</th>\n",
              "      <th>tel_11</th>\n",
              "      <th>tel_13</th>\n",
              "      <th>tel_14</th>\n",
              "      <th>tel_15</th>\n",
              "      <th>tel_18</th>\n",
              "      <th>tel_43</th>\n",
              "      <th>tel_48</th>\n",
              "      <th>tel_49</th>\n",
              "    </tr>\n",
              "  </thead>\n",
              "  <tbody>\n",
              "    <tr>\n",
              "      <th>10346</th>\n",
              "      <td>356646614</td>\n",
              "      <td>114025824</td>\n",
              "      <td>3</td>\n",
              "      <td>6</td>\n",
              "      <td>1</td>\n",
              "      <td>5</td>\n",
              "      <td>38</td>\n",
              "      <td>3</td>\n",
              "      <td>38</td>\n",
              "      <td>0</td>\n",
              "      <td>1</td>\n",
              "      <td>0</td>\n",
              "      <td>9</td>\n",
              "      <td>2</td>\n",
              "      <td>0</td>\n",
              "      <td>5</td>\n",
              "      <td>375</td>\n",
              "      <td>99</td>\n",
              "      <td>349</td>\n",
              "      <td>2</td>\n",
              "      <td>2</td>\n",
              "      <td>1</td>\n",
              "      <td>0</td>\n",
              "      <td>0</td>\n",
              "      <td>0</td>\n",
              "      <td>0</td>\n",
              "    </tr>\n",
              "    <tr>\n",
              "      <th>1927</th>\n",
              "      <td>269200656</td>\n",
              "      <td>41179185</td>\n",
              "      <td>3</td>\n",
              "      <td>1</td>\n",
              "      <td>1</td>\n",
              "      <td>1</td>\n",
              "      <td>19</td>\n",
              "      <td>4</td>\n",
              "      <td>10</td>\n",
              "      <td>0</td>\n",
              "      <td>0</td>\n",
              "      <td>0</td>\n",
              "      <td>6</td>\n",
              "      <td>2</td>\n",
              "      <td>1</td>\n",
              "      <td>5</td>\n",
              "      <td>216</td>\n",
              "      <td>177</td>\n",
              "      <td>526</td>\n",
              "      <td>2</td>\n",
              "      <td>2</td>\n",
              "      <td>1</td>\n",
              "      <td>0</td>\n",
              "      <td>0</td>\n",
              "      <td>0</td>\n",
              "      <td>2</td>\n",
              "    </tr>\n",
              "    <tr>\n",
              "      <th>1858</th>\n",
              "      <td>196097394</td>\n",
              "      <td>34734285</td>\n",
              "      <td>1</td>\n",
              "      <td>1</td>\n",
              "      <td>7</td>\n",
              "      <td>7</td>\n",
              "      <td>49</td>\n",
              "      <td>2</td>\n",
              "      <td>13</td>\n",
              "      <td>0</td>\n",
              "      <td>0</td>\n",
              "      <td>0</td>\n",
              "      <td>9</td>\n",
              "      <td>2</td>\n",
              "      <td>1</td>\n",
              "      <td>5</td>\n",
              "      <td>204</td>\n",
              "      <td>332</td>\n",
              "      <td>188</td>\n",
              "      <td>2</td>\n",
              "      <td>2</td>\n",
              "      <td>2</td>\n",
              "      <td>0</td>\n",
              "      <td>0</td>\n",
              "      <td>1</td>\n",
              "      <td>2</td>\n",
              "    </tr>\n",
              "    <tr>\n",
              "      <th>1429</th>\n",
              "      <td>180905508</td>\n",
              "      <td>42651189</td>\n",
              "      <td>1</td>\n",
              "      <td>6</td>\n",
              "      <td>7</td>\n",
              "      <td>5</td>\n",
              "      <td>36</td>\n",
              "      <td>0</td>\n",
              "      <td>12</td>\n",
              "      <td>0</td>\n",
              "      <td>0</td>\n",
              "      <td>2</td>\n",
              "      <td>3</td>\n",
              "      <td>2</td>\n",
              "      <td>0</td>\n",
              "      <td>8</td>\n",
              "      <td>246</td>\n",
              "      <td>178</td>\n",
              "      <td>50</td>\n",
              "      <td>2</td>\n",
              "      <td>2</td>\n",
              "      <td>1</td>\n",
              "      <td>0</td>\n",
              "      <td>0</td>\n",
              "      <td>1</td>\n",
              "      <td>1</td>\n",
              "    </tr>\n",
              "    <tr>\n",
              "      <th>8554</th>\n",
              "      <td>164299902</td>\n",
              "      <td>31127310</td>\n",
              "      <td>1</td>\n",
              "      <td>1</td>\n",
              "      <td>7</td>\n",
              "      <td>5</td>\n",
              "      <td>44</td>\n",
              "      <td>3</td>\n",
              "      <td>16</td>\n",
              "      <td>1</td>\n",
              "      <td>0</td>\n",
              "      <td>1</td>\n",
              "      <td>9</td>\n",
              "      <td>0</td>\n",
              "      <td>1</td>\n",
              "      <td>7</td>\n",
              "      <td>246</td>\n",
              "      <td>169</td>\n",
              "      <td>520</td>\n",
              "      <td>2</td>\n",
              "      <td>2</td>\n",
              "      <td>1</td>\n",
              "      <td>0</td>\n",
              "      <td>0</td>\n",
              "      <td>1</td>\n",
              "      <td>1</td>\n",
              "    </tr>\n",
              "  </tbody>\n",
              "</table>\n",
              "</div>"
            ],
            "text/plain": [
              "      encounter_id patient_id admission_type_id  ... tel_43 tel_48 tel_49\n",
              "10346    356646614  114025824                 3  ...      0      0      0\n",
              "1927     269200656   41179185                 3  ...      0      0      2\n",
              "1858     196097394   34734285                 1  ...      0      1      2\n",
              "1429     180905508   42651189                 1  ...      0      1      1\n",
              "8554     164299902   31127310                 1  ...      0      1      1\n",
              "\n",
              "[5 rows x 26 columns]"
            ]
          },
          "metadata": {
            "tags": []
          },
          "execution_count": 122
        }
      ]
    },
    {
      "cell_type": "code",
      "metadata": {
        "id": "0asjQ83dotzt",
        "colab_type": "code",
        "colab": {
          "base_uri": "https://localhost:8080/",
          "height": 55
        },
        "outputId": "db87240a-38da-4fa1-ebf8-51e2e24eb137"
      },
      "source": [
        "print(features_list)"
      ],
      "execution_count": null,
      "outputs": [
        {
          "output_type": "stream",
          "text": [
            "['patient_id', 'race', 'gender', 'age', 'admission_type_id', 'discharge_disposition_id', 'admission_source_id', 'time_in_hospital', 'tel_3', 'tel_4', 'tel_5', 'tel_6', 'tel_7', 'tel_8', 'tel_9', 'tel_10', 'tel_11', 'tel_12', 'tel_13', 'tel_14', 'tel_15', 'tel_18', 'tel_43', 'tel_48', 'tel_49']\n"
          ],
          "name": "stdout"
        }
      ]
    },
    {
      "cell_type": "code",
      "metadata": {
        "id": "dkKWSieJrtT4",
        "colab_type": "code",
        "colab": {}
      },
      "source": [
        "y_test_df=pd.DataFrame(y_test)\n",
        "y_test_df\n",
        "X_test_stadardized_df=pd.DataFrame(X_test)"
      ],
      "execution_count": null,
      "outputs": []
    },
    {
      "cell_type": "code",
      "metadata": {
        "id": "6GvGXeBiqEW9",
        "colab_type": "code",
        "colab": {
          "base_uri": "https://localhost:8080/",
          "height": 202
        },
        "outputId": "b9e78497-2182-4f08-e703-1bf43dcfea22"
      },
      "source": [
        "y_test_df.head()"
      ],
      "execution_count": null,
      "outputs": [
        {
          "output_type": "execute_result",
          "data": {
            "text/html": [
              "<div>\n",
              "<style scoped>\n",
              "    .dataframe tbody tr th:only-of-type {\n",
              "        vertical-align: middle;\n",
              "    }\n",
              "\n",
              "    .dataframe tbody tr th {\n",
              "        vertical-align: top;\n",
              "    }\n",
              "\n",
              "    .dataframe thead th {\n",
              "        text-align: right;\n",
              "    }\n",
              "</style>\n",
              "<table border=\"1\" class=\"dataframe\">\n",
              "  <thead>\n",
              "    <tr style=\"text-align: right;\">\n",
              "      <th></th>\n",
              "      <th>0</th>\n",
              "    </tr>\n",
              "  </thead>\n",
              "  <tbody>\n",
              "    <tr>\n",
              "      <th>0</th>\n",
              "      <td>1</td>\n",
              "    </tr>\n",
              "    <tr>\n",
              "      <th>1</th>\n",
              "      <td>1</td>\n",
              "    </tr>\n",
              "    <tr>\n",
              "      <th>2</th>\n",
              "      <td>1</td>\n",
              "    </tr>\n",
              "    <tr>\n",
              "      <th>3</th>\n",
              "      <td>1</td>\n",
              "    </tr>\n",
              "    <tr>\n",
              "      <th>4</th>\n",
              "      <td>1</td>\n",
              "    </tr>\n",
              "  </tbody>\n",
              "</table>\n",
              "</div>"
            ],
            "text/plain": [
              "   0\n",
              "0  1\n",
              "1  1\n",
              "2  1\n",
              "3  1\n",
              "4  1"
            ]
          },
          "metadata": {
            "tags": []
          },
          "execution_count": 114
        }
      ]
    },
    {
      "cell_type": "code",
      "metadata": {
        "id": "xT0ySWfhjjhu",
        "colab_type": "code",
        "colab": {
          "base_uri": "https://localhost:8080/",
          "height": 415
        },
        "outputId": "9075f084-1282-4f69-f236-673ca65c4979"
      },
      "source": [
        "pd.concat([X_test_only_eid,y_test_df],axis=1)"
      ],
      "execution_count": null,
      "outputs": [
        {
          "output_type": "execute_result",
          "data": {
            "text/html": [
              "<div>\n",
              "<style scoped>\n",
              "    .dataframe tbody tr th:only-of-type {\n",
              "        vertical-align: middle;\n",
              "    }\n",
              "\n",
              "    .dataframe tbody tr th {\n",
              "        vertical-align: top;\n",
              "    }\n",
              "\n",
              "    .dataframe thead th {\n",
              "        text-align: right;\n",
              "    }\n",
              "</style>\n",
              "<table border=\"1\" class=\"dataframe\">\n",
              "  <thead>\n",
              "    <tr style=\"text-align: right;\">\n",
              "      <th></th>\n",
              "      <th>encounter_id</th>\n",
              "      <th>0</th>\n",
              "    </tr>\n",
              "  </thead>\n",
              "  <tbody>\n",
              "    <tr>\n",
              "      <th>0</th>\n",
              "      <td>NaN</td>\n",
              "      <td>1.0</td>\n",
              "    </tr>\n",
              "    <tr>\n",
              "      <th>1</th>\n",
              "      <td>NaN</td>\n",
              "      <td>1.0</td>\n",
              "    </tr>\n",
              "    <tr>\n",
              "      <th>2</th>\n",
              "      <td>NaN</td>\n",
              "      <td>1.0</td>\n",
              "    </tr>\n",
              "    <tr>\n",
              "      <th>3</th>\n",
              "      <td>NaN</td>\n",
              "      <td>1.0</td>\n",
              "    </tr>\n",
              "    <tr>\n",
              "      <th>4</th>\n",
              "      <td>432617750</td>\n",
              "      <td>1.0</td>\n",
              "    </tr>\n",
              "    <tr>\n",
              "      <th>...</th>\n",
              "      <td>...</td>\n",
              "      <td>...</td>\n",
              "    </tr>\n",
              "    <tr>\n",
              "      <th>14669</th>\n",
              "      <td>276215436</td>\n",
              "      <td>NaN</td>\n",
              "    </tr>\n",
              "    <tr>\n",
              "      <th>14670</th>\n",
              "      <td>166252908</td>\n",
              "      <td>NaN</td>\n",
              "    </tr>\n",
              "    <tr>\n",
              "      <th>14673</th>\n",
              "      <td>126709542</td>\n",
              "      <td>NaN</td>\n",
              "    </tr>\n",
              "    <tr>\n",
              "      <th>14684</th>\n",
              "      <td>106769232</td>\n",
              "      <td>NaN</td>\n",
              "    </tr>\n",
              "    <tr>\n",
              "      <th>14686</th>\n",
              "      <td>150409428</td>\n",
              "      <td>NaN</td>\n",
              "    </tr>\n",
              "  </tbody>\n",
              "</table>\n",
              "<p>5278 rows × 2 columns</p>\n",
              "</div>"
            ],
            "text/plain": [
              "      encounter_id    0\n",
              "0              NaN  1.0\n",
              "1              NaN  1.0\n",
              "2              NaN  1.0\n",
              "3              NaN  1.0\n",
              "4        432617750  1.0\n",
              "...            ...  ...\n",
              "14669    276215436  NaN\n",
              "14670    166252908  NaN\n",
              "14673    126709542  NaN\n",
              "14684    106769232  NaN\n",
              "14686    150409428  NaN\n",
              "\n",
              "[5278 rows x 2 columns]"
            ]
          },
          "metadata": {
            "tags": []
          },
          "execution_count": 115
        }
      ]
    }
  ]
}
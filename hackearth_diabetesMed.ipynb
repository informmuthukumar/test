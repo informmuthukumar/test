{
  "nbformat": 4,
  "nbformat_minor": 0,
  "metadata": {
    "colab": {
      "name": "hackearth_diabetesMed.ipynb",
      "provenance": [],
      "collapsed_sections": [],
      "authorship_tag": "ABX9TyPbZZOCGYzyH2a0U9fbhf7H",
      "include_colab_link": true
    },
    "kernelspec": {
      "name": "python3",
      "display_name": "Python 3"
    }
  },
  "cells": [
    {
      "cell_type": "markdown",
      "metadata": {
        "id": "view-in-github",
        "colab_type": "text"
      },
      "source": [
        "<a href=\"https://colab.research.google.com/github/informmuthukumar/test/blob/master/hackearth_diabetesMed.ipynb\" target=\"_parent\"><img src=\"https://colab.research.google.com/assets/colab-badge.svg\" alt=\"Open In Colab\"/></a>"
      ]
    },
    {
      "cell_type": "markdown",
      "metadata": {
        "id": "Mnn2pxPzt75p",
        "colab_type": "text"
      },
      "source": [
        "**Importing Libraries**"
      ]
    },
    {
      "cell_type": "code",
      "metadata": {
        "id": "ULDPp9KtqUvD",
        "colab_type": "code",
        "colab": {}
      },
      "source": [
        "import pandas as pd\n",
        "import matplotlib.pyplot as plt\n",
        "import numpy as np"
      ],
      "execution_count": 161,
      "outputs": []
    },
    {
      "cell_type": "markdown",
      "metadata": {
        "id": "WO08FX3zuTa5",
        "colab_type": "text"
      },
      "source": [
        "**Importing the Dataset**"
      ]
    },
    {
      "cell_type": "code",
      "metadata": {
        "id": "zbAKUYICuX8c",
        "colab_type": "code",
        "colab": {}
      },
      "source": [
        "train = pd.read_csv('train.csv')\n",
        "#test = pd.read_csv('test.csv')"
      ],
      "execution_count": 162,
      "outputs": []
    },
    {
      "cell_type": "code",
      "metadata": {
        "id": "_iWkz0D8mayD",
        "colab_type": "code",
        "colab": {
          "base_uri": "https://localhost:8080/",
          "height": 35
        },
        "outputId": "3b278235-9e7c-409f-ad47-3cf426db5191"
      },
      "source": [
        "print(train.shape)\n",
        "#print(test.shape)"
      ],
      "execution_count": 163,
      "outputs": [
        {
          "output_type": "stream",
          "text": [
            "(14696, 50)\n"
          ],
          "name": "stdout"
        }
      ]
    },
    {
      "cell_type": "code",
      "metadata": {
        "id": "JNKvQVfBmet1",
        "colab_type": "code",
        "colab": {}
      },
      "source": [
        "features_list=['encounter_id', 'patient_id', 'race', 'gender', 'age', 'admission_type_id', 'discharge_disposition_id',\n",
        "                  'admission_source_id', 'time_in_hospital', 'tel_1', 'tel_3', 'tel_4', 'tel_5', 'tel_6', 'tel_7',\n",
        "                  'tel_8', 'tel_9', 'tel_10', 'tel_11', 'tel_12', 'tel_13', 'tel_14', 'tel_15', 'tel_18', 'tel_43', \n",
        "                  'tel_48', 'tel_49']"
      ],
      "execution_count": 164,
      "outputs": []
    },
    {
      "cell_type": "code",
      "metadata": {
        "id": "jqRDOV86gsgy",
        "colab_type": "code",
        "colab": {}
      },
      "source": [
        "X = train.loc[:, features_list]\n",
        "y = train.iloc[:, -1]               "
      ],
      "execution_count": 165,
      "outputs": []
    },
    {
      "cell_type": "code",
      "metadata": {
        "id": "s-jSdZ4uos2w",
        "colab_type": "code",
        "colab": {
          "base_uri": "https://localhost:8080/",
          "height": 260
        },
        "outputId": "07ecbdc6-5d89-4796-d458-4e915678af33"
      },
      "source": [
        "print(X)"
      ],
      "execution_count": 166,
      "outputs": [
        {
          "output_type": "stream",
          "text": [
            "       encounter_id  patient_id             race  ...  tel_43 tel_48  tel_49\n",
            "0         178974720    61754247        Caucasian  ...      No     Ch     >30\n",
            "1         111231666   110498427  AfricanAmerican  ...  Steady     No      NO\n",
            "2         134751624    91719990        Caucasian  ...      No     Ch     >30\n",
            "3         254196636     1897758        Caucasian  ...      No     Ch     >30\n",
            "4         432617750    34636617            Asian  ...      No     No      NO\n",
            "...             ...         ...              ...  ...     ...    ...     ...\n",
            "14691     166648812    91484838        Caucasian  ...      No     Ch     >30\n",
            "14692     196987788    78710643        Caucasian  ...      No     No     >30\n",
            "14693     271832286    32262471        Caucasian  ...      No     No      NO\n",
            "14694     254610744    96558903  AfricanAmerican  ...      No     Ch      NO\n",
            "14695     169334802    23238954  AfricanAmerican  ...      No     Ch      NO\n",
            "\n",
            "[14696 rows x 27 columns]\n"
          ],
          "name": "stdout"
        }
      ]
    },
    {
      "cell_type": "code",
      "metadata": {
        "id": "fRNmf96MjFCk",
        "colab_type": "code",
        "colab": {
          "base_uri": "https://localhost:8080/",
          "height": 225
        },
        "outputId": "e2848dcf-c85f-459f-cfd2-bdda7b9b68e4"
      },
      "source": [
        "print(y)"
      ],
      "execution_count": 167,
      "outputs": [
        {
          "output_type": "stream",
          "text": [
            "0        1\n",
            "1        1\n",
            "2        1\n",
            "3        1\n",
            "4        1\n",
            "        ..\n",
            "14691    1\n",
            "14692    1\n",
            "14693    0\n",
            "14694    1\n",
            "14695    1\n",
            "Name: diabetesMed, Length: 14696, dtype: int64\n"
          ],
          "name": "stdout"
        }
      ]
    },
    {
      "cell_type": "code",
      "metadata": {
        "id": "yPDXKPSDkA1N",
        "colab_type": "code",
        "colab": {}
      },
      "source": [
        "X = X.replace(to_replace='?',value=np.nan)"
      ],
      "execution_count": 168,
      "outputs": []
    },
    {
      "cell_type": "code",
      "metadata": {
        "id": "ZVhmt9iQo_9J",
        "colab_type": "code",
        "colab": {
          "base_uri": "https://localhost:8080/",
          "height": 35
        },
        "outputId": "5a7779bd-2833-49d2-a363-224e17914d5e"
      },
      "source": [
        "type(X)"
      ],
      "execution_count": 169,
      "outputs": [
        {
          "output_type": "execute_result",
          "data": {
            "text/plain": [
              "pandas.core.frame.DataFrame"
            ]
          },
          "metadata": {
            "tags": []
          },
          "execution_count": 169
        }
      ]
    },
    {
      "cell_type": "code",
      "metadata": {
        "id": "7A9MHtd9pj7c",
        "colab_type": "code",
        "colab": {}
      },
      "source": [
        "cat_cols=list(X.select_dtypes(include=['object']).columns)\n",
        "num_cols=list(X.select_dtypes(exclude=['object']).columns)"
      ],
      "execution_count": 170,
      "outputs": []
    },
    {
      "cell_type": "code",
      "metadata": {
        "id": "Oz9m1A82qB_h",
        "colab_type": "code",
        "colab": {}
      },
      "source": [
        "from sklearn.impute import SimpleImputer\n",
        "imputer = SimpleImputer(missing_values=np.nan, strategy='most_frequent')\n",
        "imputer.fit(X)\n",
        "X_df = imputer.transform(X)"
      ],
      "execution_count": 202,
      "outputs": []
    },
    {
      "cell_type": "code",
      "metadata": {
        "id": "34RyK91K8Pe-",
        "colab_type": "code",
        "colab": {
          "base_uri": "https://localhost:8080/",
          "height": 139
        },
        "outputId": "bca6884b-4ef7-4b00-e5c3-2039bc9cf0d1"
      },
      "source": [
        "print(X_df)"
      ],
      "execution_count": 203,
      "outputs": [
        {
          "output_type": "stream",
          "text": [
            "[[178974720 61754247 'Caucasian' ... 'No' 'Ch' '>30']\n",
            " [111231666 110498427 'AfricanAmerican' ... 'Steady' 'No' 'NO']\n",
            " [134751624 91719990 'Caucasian' ... 'No' 'Ch' '>30']\n",
            " ...\n",
            " [271832286 32262471 'Caucasian' ... 'No' 'No' 'NO']\n",
            " [254610744 96558903 'AfricanAmerican' ... 'No' 'Ch' 'NO']\n",
            " [169334802 23238954 'AfricanAmerican' ... 'No' 'Ch' 'NO']]\n"
          ],
          "name": "stdout"
        }
      ]
    },
    {
      "cell_type": "code",
      "metadata": {
        "id": "7It96EWEEfK4",
        "colab_type": "code",
        "colab": {}
      },
      "source": [
        "#numpy_data = np.array([[1, 2], [3, 4]])\n"
      ],
      "execution_count": null,
      "outputs": []
    },
    {
      "cell_type": "code",
      "metadata": {
        "id": "h2ffmRheB4pP",
        "colab_type": "code",
        "colab": {
          "base_uri": "https://localhost:8080/",
          "height": 435
        },
        "outputId": "a526b293-ff5f-4bc2-8d4e-f5815e1e1295"
      },
      "source": [
        "X[num_cols]"
      ],
      "execution_count": 180,
      "outputs": [
        {
          "output_type": "execute_result",
          "data": {
            "text/html": [
              "<div>\n",
              "<style scoped>\n",
              "    .dataframe tbody tr th:only-of-type {\n",
              "        vertical-align: middle;\n",
              "    }\n",
              "\n",
              "    .dataframe tbody tr th {\n",
              "        vertical-align: top;\n",
              "    }\n",
              "\n",
              "    .dataframe thead th {\n",
              "        text-align: right;\n",
              "    }\n",
              "</style>\n",
              "<table border=\"1\" class=\"dataframe\">\n",
              "  <thead>\n",
              "    <tr style=\"text-align: right;\">\n",
              "      <th></th>\n",
              "      <th>encounter_id</th>\n",
              "      <th>patient_id</th>\n",
              "      <th>admission_type_id</th>\n",
              "      <th>discharge_disposition_id</th>\n",
              "      <th>admission_source_id</th>\n",
              "      <th>time_in_hospital</th>\n",
              "      <th>tel_3</th>\n",
              "      <th>tel_4</th>\n",
              "      <th>tel_5</th>\n",
              "      <th>tel_6</th>\n",
              "      <th>tel_7</th>\n",
              "      <th>tel_8</th>\n",
              "      <th>tel_12</th>\n",
              "    </tr>\n",
              "  </thead>\n",
              "  <tbody>\n",
              "    <tr>\n",
              "      <th>0</th>\n",
              "      <td>178974720</td>\n",
              "      <td>61754247</td>\n",
              "      <td>1</td>\n",
              "      <td>3</td>\n",
              "      <td>7</td>\n",
              "      <td>6</td>\n",
              "      <td>61</td>\n",
              "      <td>0</td>\n",
              "      <td>8</td>\n",
              "      <td>0</td>\n",
              "      <td>0</td>\n",
              "      <td>0</td>\n",
              "      <td>5</td>\n",
              "    </tr>\n",
              "    <tr>\n",
              "      <th>1</th>\n",
              "      <td>111231666</td>\n",
              "      <td>110498427</td>\n",
              "      <td>3</td>\n",
              "      <td>1</td>\n",
              "      <td>1</td>\n",
              "      <td>2</td>\n",
              "      <td>32</td>\n",
              "      <td>1</td>\n",
              "      <td>16</td>\n",
              "      <td>0</td>\n",
              "      <td>0</td>\n",
              "      <td>0</td>\n",
              "      <td>4</td>\n",
              "    </tr>\n",
              "    <tr>\n",
              "      <th>2</th>\n",
              "      <td>134751624</td>\n",
              "      <td>91719990</td>\n",
              "      <td>1</td>\n",
              "      <td>1</td>\n",
              "      <td>7</td>\n",
              "      <td>5</td>\n",
              "      <td>85</td>\n",
              "      <td>2</td>\n",
              "      <td>15</td>\n",
              "      <td>0</td>\n",
              "      <td>0</td>\n",
              "      <td>1</td>\n",
              "      <td>9</td>\n",
              "    </tr>\n",
              "    <tr>\n",
              "      <th>3</th>\n",
              "      <td>254196636</td>\n",
              "      <td>1897758</td>\n",
              "      <td>3</td>\n",
              "      <td>1</td>\n",
              "      <td>1</td>\n",
              "      <td>3</td>\n",
              "      <td>24</td>\n",
              "      <td>2</td>\n",
              "      <td>24</td>\n",
              "      <td>0</td>\n",
              "      <td>0</td>\n",
              "      <td>0</td>\n",
              "      <td>7</td>\n",
              "    </tr>\n",
              "    <tr>\n",
              "      <th>4</th>\n",
              "      <td>432617750</td>\n",
              "      <td>34636617</td>\n",
              "      <td>2</td>\n",
              "      <td>3</td>\n",
              "      <td>5</td>\n",
              "      <td>2</td>\n",
              "      <td>1</td>\n",
              "      <td>2</td>\n",
              "      <td>11</td>\n",
              "      <td>0</td>\n",
              "      <td>0</td>\n",
              "      <td>0</td>\n",
              "      <td>9</td>\n",
              "    </tr>\n",
              "    <tr>\n",
              "      <th>...</th>\n",
              "      <td>...</td>\n",
              "      <td>...</td>\n",
              "      <td>...</td>\n",
              "      <td>...</td>\n",
              "      <td>...</td>\n",
              "      <td>...</td>\n",
              "      <td>...</td>\n",
              "      <td>...</td>\n",
              "      <td>...</td>\n",
              "      <td>...</td>\n",
              "      <td>...</td>\n",
              "      <td>...</td>\n",
              "      <td>...</td>\n",
              "    </tr>\n",
              "    <tr>\n",
              "      <th>14691</th>\n",
              "      <td>166648812</td>\n",
              "      <td>91484838</td>\n",
              "      <td>1</td>\n",
              "      <td>1</td>\n",
              "      <td>7</td>\n",
              "      <td>2</td>\n",
              "      <td>41</td>\n",
              "      <td>0</td>\n",
              "      <td>12</td>\n",
              "      <td>0</td>\n",
              "      <td>0</td>\n",
              "      <td>1</td>\n",
              "      <td>8</td>\n",
              "    </tr>\n",
              "    <tr>\n",
              "      <th>14692</th>\n",
              "      <td>196987788</td>\n",
              "      <td>78710643</td>\n",
              "      <td>1</td>\n",
              "      <td>6</td>\n",
              "      <td>7</td>\n",
              "      <td>2</td>\n",
              "      <td>39</td>\n",
              "      <td>0</td>\n",
              "      <td>12</td>\n",
              "      <td>0</td>\n",
              "      <td>0</td>\n",
              "      <td>2</td>\n",
              "      <td>9</td>\n",
              "    </tr>\n",
              "    <tr>\n",
              "      <th>14693</th>\n",
              "      <td>271832286</td>\n",
              "      <td>32262471</td>\n",
              "      <td>1</td>\n",
              "      <td>3</td>\n",
              "      <td>7</td>\n",
              "      <td>4</td>\n",
              "      <td>44</td>\n",
              "      <td>1</td>\n",
              "      <td>12</td>\n",
              "      <td>0</td>\n",
              "      <td>0</td>\n",
              "      <td>0</td>\n",
              "      <td>9</td>\n",
              "    </tr>\n",
              "    <tr>\n",
              "      <th>14694</th>\n",
              "      <td>254610744</td>\n",
              "      <td>96558903</td>\n",
              "      <td>1</td>\n",
              "      <td>1</td>\n",
              "      <td>7</td>\n",
              "      <td>2</td>\n",
              "      <td>60</td>\n",
              "      <td>0</td>\n",
              "      <td>11</td>\n",
              "      <td>0</td>\n",
              "      <td>0</td>\n",
              "      <td>0</td>\n",
              "      <td>5</td>\n",
              "    </tr>\n",
              "    <tr>\n",
              "      <th>14695</th>\n",
              "      <td>169334802</td>\n",
              "      <td>23238954</td>\n",
              "      <td>1</td>\n",
              "      <td>1</td>\n",
              "      <td>7</td>\n",
              "      <td>1</td>\n",
              "      <td>35</td>\n",
              "      <td>0</td>\n",
              "      <td>13</td>\n",
              "      <td>1</td>\n",
              "      <td>0</td>\n",
              "      <td>0</td>\n",
              "      <td>8</td>\n",
              "    </tr>\n",
              "  </tbody>\n",
              "</table>\n",
              "<p>14696 rows × 13 columns</p>\n",
              "</div>"
            ],
            "text/plain": [
              "       encounter_id  patient_id  admission_type_id  ...  tel_7  tel_8  tel_12\n",
              "0         178974720    61754247                  1  ...      0      0       5\n",
              "1         111231666   110498427                  3  ...      0      0       4\n",
              "2         134751624    91719990                  1  ...      0      1       9\n",
              "3         254196636     1897758                  3  ...      0      0       7\n",
              "4         432617750    34636617                  2  ...      0      0       9\n",
              "...             ...         ...                ...  ...    ...    ...     ...\n",
              "14691     166648812    91484838                  1  ...      0      1       8\n",
              "14692     196987788    78710643                  1  ...      0      2       9\n",
              "14693     271832286    32262471                  1  ...      0      0       9\n",
              "14694     254610744    96558903                  1  ...      0      0       5\n",
              "14695     169334802    23238954                  1  ...      0      0       8\n",
              "\n",
              "[14696 rows x 13 columns]"
            ]
          },
          "metadata": {
            "tags": []
          },
          "execution_count": 180
        }
      ]
    },
    {
      "cell_type": "code",
      "metadata": {
        "id": "CPNyc6XzBPCc",
        "colab_type": "code",
        "colab": {}
      },
      "source": [
        "type(X_df)\n",
        "X_df_pd=pd.DataFrame(X_df,columns=features_list)"
      ],
      "execution_count": 237,
      "outputs": []
    },
    {
      "cell_type": "code",
      "metadata": {
        "id": "DIybbHw5Q2f0",
        "colab_type": "code",
        "colab": {}
      },
      "source": [
        "from sklearn.preprocessing import LabelEncoder\n",
        "data1 = X_df_pd[cat_cols].apply(LabelEncoder().fit_transform)\n"
      ],
      "execution_count": 248,
      "outputs": []
    },
    {
      "cell_type": "code",
      "metadata": {
        "id": "l0IKuyGRSCts",
        "colab_type": "code",
        "colab": {}
      },
      "source": [
        "dataf=data1.join(X_df_pd[num_cols])"
      ],
      "execution_count": 251,
      "outputs": []
    },
    {
      "cell_type": "code",
      "metadata": {
        "id": "w0EpWMtCSc-p",
        "colab_type": "code",
        "colab": {
          "base_uri": "https://localhost:8080/",
          "height": 222
        },
        "outputId": "0c9b5d30-78c7-4cf7-e003-3eab4b49e1d8"
      },
      "source": [
        "dataf.head()"
      ],
      "execution_count": 253,
      "outputs": [
        {
          "output_type": "execute_result",
          "data": {
            "text/html": [
              "<div>\n",
              "<style scoped>\n",
              "    .dataframe tbody tr th:only-of-type {\n",
              "        vertical-align: middle;\n",
              "    }\n",
              "\n",
              "    .dataframe tbody tr th {\n",
              "        vertical-align: top;\n",
              "    }\n",
              "\n",
              "    .dataframe thead th {\n",
              "        text-align: right;\n",
              "    }\n",
              "</style>\n",
              "<table border=\"1\" class=\"dataframe\">\n",
              "  <thead>\n",
              "    <tr style=\"text-align: right;\">\n",
              "      <th></th>\n",
              "      <th>race</th>\n",
              "      <th>gender</th>\n",
              "      <th>age</th>\n",
              "      <th>tel_1</th>\n",
              "      <th>tel_9</th>\n",
              "      <th>tel_10</th>\n",
              "      <th>tel_11</th>\n",
              "      <th>tel_13</th>\n",
              "      <th>tel_14</th>\n",
              "      <th>tel_15</th>\n",
              "      <th>tel_18</th>\n",
              "      <th>tel_43</th>\n",
              "      <th>tel_48</th>\n",
              "      <th>tel_49</th>\n",
              "      <th>encounter_id</th>\n",
              "      <th>patient_id</th>\n",
              "      <th>admission_type_id</th>\n",
              "      <th>discharge_disposition_id</th>\n",
              "      <th>admission_source_id</th>\n",
              "      <th>time_in_hospital</th>\n",
              "      <th>tel_3</th>\n",
              "      <th>tel_4</th>\n",
              "      <th>tel_5</th>\n",
              "      <th>tel_6</th>\n",
              "      <th>tel_7</th>\n",
              "      <th>tel_8</th>\n",
              "      <th>tel_12</th>\n",
              "    </tr>\n",
              "  </thead>\n",
              "  <tbody>\n",
              "    <tr>\n",
              "      <th>0</th>\n",
              "      <td>2</td>\n",
              "      <td>1</td>\n",
              "      <td>8</td>\n",
              "      <td>6</td>\n",
              "      <td>398</td>\n",
              "      <td>90</td>\n",
              "      <td>390</td>\n",
              "      <td>2</td>\n",
              "      <td>2</td>\n",
              "      <td>1</td>\n",
              "      <td>0</td>\n",
              "      <td>0</td>\n",
              "      <td>0</td>\n",
              "      <td>1</td>\n",
              "      <td>178974720</td>\n",
              "      <td>61754247</td>\n",
              "      <td>1</td>\n",
              "      <td>3</td>\n",
              "      <td>7</td>\n",
              "      <td>6</td>\n",
              "      <td>61</td>\n",
              "      <td>0</td>\n",
              "      <td>8</td>\n",
              "      <td>0</td>\n",
              "      <td>0</td>\n",
              "      <td>0</td>\n",
              "      <td>5</td>\n",
              "    </tr>\n",
              "    <tr>\n",
              "      <th>1</th>\n",
              "      <td>0</td>\n",
              "      <td>0</td>\n",
              "      <td>5</td>\n",
              "      <td>0</td>\n",
              "      <td>385</td>\n",
              "      <td>376</td>\n",
              "      <td>170</td>\n",
              "      <td>2</td>\n",
              "      <td>2</td>\n",
              "      <td>1</td>\n",
              "      <td>0</td>\n",
              "      <td>1</td>\n",
              "      <td>1</td>\n",
              "      <td>2</td>\n",
              "      <td>111231666</td>\n",
              "      <td>110498427</td>\n",
              "      <td>3</td>\n",
              "      <td>1</td>\n",
              "      <td>1</td>\n",
              "      <td>2</td>\n",
              "      <td>32</td>\n",
              "      <td>1</td>\n",
              "      <td>16</td>\n",
              "      <td>0</td>\n",
              "      <td>0</td>\n",
              "      <td>0</td>\n",
              "      <td>4</td>\n",
              "    </tr>\n",
              "    <tr>\n",
              "      <th>2</th>\n",
              "      <td>2</td>\n",
              "      <td>1</td>\n",
              "      <td>8</td>\n",
              "      <td>6</td>\n",
              "      <td>246</td>\n",
              "      <td>490</td>\n",
              "      <td>291</td>\n",
              "      <td>2</td>\n",
              "      <td>2</td>\n",
              "      <td>1</td>\n",
              "      <td>0</td>\n",
              "      <td>0</td>\n",
              "      <td>0</td>\n",
              "      <td>1</td>\n",
              "      <td>134751624</td>\n",
              "      <td>91719990</td>\n",
              "      <td>1</td>\n",
              "      <td>1</td>\n",
              "      <td>7</td>\n",
              "      <td>5</td>\n",
              "      <td>85</td>\n",
              "      <td>2</td>\n",
              "      <td>15</td>\n",
              "      <td>0</td>\n",
              "      <td>0</td>\n",
              "      <td>1</td>\n",
              "      <td>9</td>\n",
              "    </tr>\n",
              "    <tr>\n",
              "      <th>3</th>\n",
              "      <td>2</td>\n",
              "      <td>0</td>\n",
              "      <td>7</td>\n",
              "      <td>6</td>\n",
              "      <td>375</td>\n",
              "      <td>45</td>\n",
              "      <td>90</td>\n",
              "      <td>2</td>\n",
              "      <td>2</td>\n",
              "      <td>1</td>\n",
              "      <td>0</td>\n",
              "      <td>0</td>\n",
              "      <td>0</td>\n",
              "      <td>1</td>\n",
              "      <td>254196636</td>\n",
              "      <td>1897758</td>\n",
              "      <td>3</td>\n",
              "      <td>1</td>\n",
              "      <td>1</td>\n",
              "      <td>3</td>\n",
              "      <td>24</td>\n",
              "      <td>2</td>\n",
              "      <td>24</td>\n",
              "      <td>0</td>\n",
              "      <td>0</td>\n",
              "      <td>0</td>\n",
              "      <td>7</td>\n",
              "    </tr>\n",
              "    <tr>\n",
              "      <th>4</th>\n",
              "      <td>1</td>\n",
              "      <td>0</td>\n",
              "      <td>8</td>\n",
              "      <td>6</td>\n",
              "      <td>402</td>\n",
              "      <td>381</td>\n",
              "      <td>110</td>\n",
              "      <td>2</td>\n",
              "      <td>2</td>\n",
              "      <td>1</td>\n",
              "      <td>0</td>\n",
              "      <td>0</td>\n",
              "      <td>1</td>\n",
              "      <td>2</td>\n",
              "      <td>432617750</td>\n",
              "      <td>34636617</td>\n",
              "      <td>2</td>\n",
              "      <td>3</td>\n",
              "      <td>5</td>\n",
              "      <td>2</td>\n",
              "      <td>1</td>\n",
              "      <td>2</td>\n",
              "      <td>11</td>\n",
              "      <td>0</td>\n",
              "      <td>0</td>\n",
              "      <td>0</td>\n",
              "      <td>9</td>\n",
              "    </tr>\n",
              "  </tbody>\n",
              "</table>\n",
              "</div>"
            ],
            "text/plain": [
              "   race  gender  age  tel_1  tel_9  tel_10  ...  tel_4  tel_5  tel_6  tel_7  tel_8  tel_12\n",
              "0     2       1    8      6    398      90  ...      0      8      0      0      0       5\n",
              "1     0       0    5      0    385     376  ...      1     16      0      0      0       4\n",
              "2     2       1    8      6    246     490  ...      2     15      0      0      1       9\n",
              "3     2       0    7      6    375      45  ...      2     24      0      0      0       7\n",
              "4     1       0    8      6    402     381  ...      2     11      0      0      0       9\n",
              "\n",
              "[5 rows x 27 columns]"
            ]
          },
          "metadata": {
            "tags": []
          },
          "execution_count": 253
        }
      ]
    },
    {
      "cell_type": "code",
      "metadata": {
        "id": "V2Whk--0S9Qg",
        "colab_type": "code",
        "colab": {}
      },
      "source": [
        "X_final=dataf.values\n",
        "y_final=y.values"
      ],
      "execution_count": 255,
      "outputs": []
    },
    {
      "cell_type": "code",
      "metadata": {
        "id": "UOCI-_CSSsbO",
        "colab_type": "code",
        "colab": {}
      },
      "source": [
        "from sklearn.model_selection import train_test_split\n",
        "X_train, X_test, y_train, y_test = train_test_split(X_final, y_final, test_size = 0.2, random_state = 1)"
      ],
      "execution_count": 265,
      "outputs": []
    },
    {
      "cell_type": "code",
      "metadata": {
        "id": "jEUj5z8sTiyL",
        "colab_type": "code",
        "colab": {
          "base_uri": "https://localhost:8080/",
          "height": 69
        },
        "outputId": "65f16430-b550-414b-9532-2f9e3f646568"
      },
      "source": [
        "y.value_counts()"
      ],
      "execution_count": 262,
      "outputs": [
        {
          "output_type": "execute_result",
          "data": {
            "text/plain": [
              "1    13207\n",
              "0     1489\n",
              "Name: diabetesMed, dtype: int64"
            ]
          },
          "metadata": {
            "tags": []
          },
          "execution_count": 262
        }
      ]
    },
    {
      "cell_type": "code",
      "metadata": {
        "id": "URdDKGzNU76Z",
        "colab_type": "code",
        "colab": {
          "base_uri": "https://localhost:8080/",
          "height": 139
        },
        "outputId": "65749100-f0fc-4a0d-a6f0-9dce215a9737"
      },
      "source": [
        "print(X_train)"
      ],
      "execution_count": 266,
      "outputs": [
        {
          "output_type": "stream",
          "text": [
            "[[2 0 6 ... 0 0 8]\n",
            " [2 1 6 ... 0 0 7]\n",
            " [4 1 8 ... 0 0 9]\n",
            " ...\n",
            " [2 1 6 ... 0 1 7]\n",
            " [2 0 7 ... 0 0 9]\n",
            " [2 0 3 ... 6 0 9]]\n"
          ],
          "name": "stdout"
        }
      ]
    },
    {
      "cell_type": "code",
      "metadata": {
        "id": "Bi60Fq5qUHci",
        "colab_type": "code",
        "colab": {}
      },
      "source": [
        "from sklearn.preprocessing import StandardScaler\n",
        "sc = StandardScaler()\n",
        "X_train = sc.fit_transform(X_train)\n",
        "X_test = sc.transform(X_test)"
      ],
      "execution_count": 268,
      "outputs": []
    },
    {
      "cell_type": "code",
      "metadata": {
        "id": "2P8GnCRyU1Xa",
        "colab_type": "code",
        "colab": {
          "base_uri": "https://localhost:8080/",
          "height": 243
        },
        "outputId": "a7a3bf67-9049-4498-c865-71bf48c98a2c"
      },
      "source": [
        "print(X_train)"
      ],
      "execution_count": 270,
      "outputs": [
        {
          "output_type": "stream",
          "text": [
            "[[ 0.37019092 -0.9285414  -0.10920275 ... -0.27212356 -0.51320735\n",
            "   0.14225061]\n",
            " [ 0.37019092  1.0769579  -0.10920275 ... -0.27212356 -0.51320735\n",
            "  -0.40802848]\n",
            " [ 2.77924956  1.0769579   1.17266203 ... -0.27212356 -0.51320735\n",
            "   0.6925297 ]\n",
            " ...\n",
            " [ 0.37019092  1.0769579  -0.10920275 ... -0.27212356  0.27452808\n",
            "  -0.40802848]\n",
            " [ 0.37019092 -0.9285414   0.53172964 ... -0.27212356 -0.51320735\n",
            "   0.6925297 ]\n",
            " [ 0.37019092 -0.9285414  -2.03199994 ...  6.14744412 -0.51320735\n",
            "   0.6925297 ]]\n"
          ],
          "name": "stdout"
        }
      ]
    },
    {
      "cell_type": "code",
      "metadata": {
        "id": "fcsWjKEdVNoi",
        "colab_type": "code",
        "colab": {
          "base_uri": "https://localhost:8080/",
          "height": 243
        },
        "outputId": "da551950-628e-49e5-c310-403abeba5f84"
      },
      "source": [
        "print(X_test)"
      ],
      "execution_count": 271,
      "outputs": [
        {
          "output_type": "stream",
          "text": [
            "[[ 0.37019092 -0.9285414  -0.75013515 ...  0.79780439 -0.51320735\n",
            "   0.6925297 ]\n",
            " [ 0.37019092  1.0769579  -0.75013515 ... -0.27212356 -0.51320735\n",
            "  -0.95830757]\n",
            " [ 0.37019092  1.0769579  -0.75013515 ... -0.27212356 -0.51320735\n",
            "   0.6925297 ]\n",
            " ...\n",
            " [ 0.37019092  1.0769579  -0.10920275 ... -0.27212356 -0.51320735\n",
            "   0.6925297 ]\n",
            " [-2.03886772  1.0769579  -2.03199994 ...  1.86773233  1.84999893\n",
            "   0.6925297 ]\n",
            " [-2.03886772 -0.9285414   0.53172964 ... -0.27212356 -0.51320735\n",
            "   0.6925297 ]]\n"
          ],
          "name": "stdout"
        }
      ]
    },
    {
      "cell_type": "code",
      "metadata": {
        "id": "7Yl8tWSjVjAB",
        "colab_type": "code",
        "colab": {
          "base_uri": "https://localhost:8080/",
          "height": 104
        },
        "outputId": "1bddeaa9-bc9f-466c-9e3b-b39a144cf252"
      },
      "source": [
        "from sklearn.linear_model import LogisticRegression\n",
        "classifier = LogisticRegression(random_state = 0)\n",
        "classifier.fit(X_train, y_train)"
      ],
      "execution_count": 272,
      "outputs": [
        {
          "output_type": "execute_result",
          "data": {
            "text/plain": [
              "LogisticRegression(C=1.0, class_weight=None, dual=False, fit_intercept=True,\n",
              "                   intercept_scaling=1, l1_ratio=None, max_iter=100,\n",
              "                   multi_class='auto', n_jobs=None, penalty='l2',\n",
              "                   random_state=0, solver='lbfgs', tol=0.0001, verbose=0,\n",
              "                   warm_start=False)"
            ]
          },
          "metadata": {
            "tags": []
          },
          "execution_count": 272
        }
      ]
    },
    {
      "cell_type": "code",
      "metadata": {
        "id": "VoR5O0iyVouB",
        "colab_type": "code",
        "colab": {
          "base_uri": "https://localhost:8080/",
          "height": 139
        },
        "outputId": "22edd2a5-8d63-4073-8ecc-0fd03bb2e7b9"
      },
      "source": [
        "y_pred = classifier.predict(X_test)\n",
        "print(np.concatenate((y_pred.reshape(len(y_pred),1), y_test.reshape(len(y_test),1)),1))"
      ],
      "execution_count": 273,
      "outputs": [
        {
          "output_type": "stream",
          "text": [
            "[[1 1]\n",
            " [1 1]\n",
            " [1 1]\n",
            " ...\n",
            " [1 1]\n",
            " [1 1]\n",
            " [1 1]]\n"
          ],
          "name": "stdout"
        }
      ]
    },
    {
      "cell_type": "code",
      "metadata": {
        "id": "iORvS7TpV5Z4",
        "colab_type": "code",
        "colab": {
          "base_uri": "https://localhost:8080/",
          "height": 69
        },
        "outputId": "dce6b512-1fd3-4896-a981-1adea3ac72bf"
      },
      "source": [
        "from sklearn.metrics import confusion_matrix, accuracy_score\n",
        "cm = confusion_matrix(y_test, y_pred)\n",
        "print(cm)\n",
        "accuracy_score(y_test, y_pred)"
      ],
      "execution_count": 274,
      "outputs": [
        {
          "output_type": "stream",
          "text": [
            "[[  88  218]\n",
            " [  77 2557]]\n"
          ],
          "name": "stdout"
        },
        {
          "output_type": "execute_result",
          "data": {
            "text/plain": [
              "0.8996598639455783"
            ]
          },
          "metadata": {
            "tags": []
          },
          "execution_count": 274
        }
      ]
    },
    {
      "cell_type": "code",
      "metadata": {
        "id": "Ol1RnJ4GJkbw",
        "colab_type": "code",
        "colab": {
          "base_uri": "https://localhost:8080/",
          "height": 309
        },
        "outputId": "c35ee37e-f82a-46a5-f2f5-2750fac2c2fa"
      },
      "source": [
        "X_df_pd.head()"
      ],
      "execution_count": 240,
      "outputs": [
        {
          "output_type": "execute_result",
          "data": {
            "text/html": [
              "<div>\n",
              "<style scoped>\n",
              "    .dataframe tbody tr th:only-of-type {\n",
              "        vertical-align: middle;\n",
              "    }\n",
              "\n",
              "    .dataframe tbody tr th {\n",
              "        vertical-align: top;\n",
              "    }\n",
              "\n",
              "    .dataframe thead th {\n",
              "        text-align: right;\n",
              "    }\n",
              "</style>\n",
              "<table border=\"1\" class=\"dataframe\">\n",
              "  <thead>\n",
              "    <tr style=\"text-align: right;\">\n",
              "      <th></th>\n",
              "      <th>encounter_id</th>\n",
              "      <th>patient_id</th>\n",
              "      <th>race</th>\n",
              "      <th>gender</th>\n",
              "      <th>age</th>\n",
              "      <th>admission_type_id</th>\n",
              "      <th>discharge_disposition_id</th>\n",
              "      <th>admission_source_id</th>\n",
              "      <th>time_in_hospital</th>\n",
              "      <th>tel_1</th>\n",
              "      <th>tel_3</th>\n",
              "      <th>tel_4</th>\n",
              "      <th>tel_5</th>\n",
              "      <th>tel_6</th>\n",
              "      <th>tel_7</th>\n",
              "      <th>tel_8</th>\n",
              "      <th>tel_9</th>\n",
              "      <th>tel_10</th>\n",
              "      <th>tel_11</th>\n",
              "      <th>tel_12</th>\n",
              "      <th>tel_13</th>\n",
              "      <th>tel_14</th>\n",
              "      <th>tel_15</th>\n",
              "      <th>tel_18</th>\n",
              "      <th>tel_43</th>\n",
              "      <th>tel_48</th>\n",
              "      <th>tel_49</th>\n",
              "    </tr>\n",
              "  </thead>\n",
              "  <tbody>\n",
              "    <tr>\n",
              "      <th>0</th>\n",
              "      <td>178974720</td>\n",
              "      <td>61754247</td>\n",
              "      <td>Caucasian</td>\n",
              "      <td>Male</td>\n",
              "      <td>[80-90)</td>\n",
              "      <td>1</td>\n",
              "      <td>3</td>\n",
              "      <td>7</td>\n",
              "      <td>6</td>\n",
              "      <td>MC</td>\n",
              "      <td>61</td>\n",
              "      <td>0</td>\n",
              "      <td>8</td>\n",
              "      <td>0</td>\n",
              "      <td>0</td>\n",
              "      <td>0</td>\n",
              "      <td>780</td>\n",
              "      <td>276</td>\n",
              "      <td>789</td>\n",
              "      <td>5</td>\n",
              "      <td>None</td>\n",
              "      <td>None</td>\n",
              "      <td>No</td>\n",
              "      <td>No</td>\n",
              "      <td>No</td>\n",
              "      <td>Ch</td>\n",
              "      <td>&gt;30</td>\n",
              "    </tr>\n",
              "    <tr>\n",
              "      <th>1</th>\n",
              "      <td>111231666</td>\n",
              "      <td>110498427</td>\n",
              "      <td>AfricanAmerican</td>\n",
              "      <td>Female</td>\n",
              "      <td>[50-60)</td>\n",
              "      <td>3</td>\n",
              "      <td>1</td>\n",
              "      <td>1</td>\n",
              "      <td>2</td>\n",
              "      <td>BC</td>\n",
              "      <td>32</td>\n",
              "      <td>1</td>\n",
              "      <td>16</td>\n",
              "      <td>0</td>\n",
              "      <td>0</td>\n",
              "      <td>0</td>\n",
              "      <td>727</td>\n",
              "      <td>786</td>\n",
              "      <td>401</td>\n",
              "      <td>4</td>\n",
              "      <td>None</td>\n",
              "      <td>None</td>\n",
              "      <td>No</td>\n",
              "      <td>No</td>\n",
              "      <td>Steady</td>\n",
              "      <td>No</td>\n",
              "      <td>NO</td>\n",
              "    </tr>\n",
              "    <tr>\n",
              "      <th>2</th>\n",
              "      <td>134751624</td>\n",
              "      <td>91719990</td>\n",
              "      <td>Caucasian</td>\n",
              "      <td>Male</td>\n",
              "      <td>[80-90)</td>\n",
              "      <td>1</td>\n",
              "      <td>1</td>\n",
              "      <td>7</td>\n",
              "      <td>5</td>\n",
              "      <td>MC</td>\n",
              "      <td>85</td>\n",
              "      <td>2</td>\n",
              "      <td>15</td>\n",
              "      <td>0</td>\n",
              "      <td>0</td>\n",
              "      <td>1</td>\n",
              "      <td>486</td>\n",
              "      <td>V45</td>\n",
              "      <td>585</td>\n",
              "      <td>9</td>\n",
              "      <td>None</td>\n",
              "      <td>None</td>\n",
              "      <td>No</td>\n",
              "      <td>No</td>\n",
              "      <td>No</td>\n",
              "      <td>Ch</td>\n",
              "      <td>&gt;30</td>\n",
              "    </tr>\n",
              "    <tr>\n",
              "      <th>3</th>\n",
              "      <td>254196636</td>\n",
              "      <td>1897758</td>\n",
              "      <td>Caucasian</td>\n",
              "      <td>Female</td>\n",
              "      <td>[70-80)</td>\n",
              "      <td>3</td>\n",
              "      <td>1</td>\n",
              "      <td>1</td>\n",
              "      <td>3</td>\n",
              "      <td>MC</td>\n",
              "      <td>24</td>\n",
              "      <td>2</td>\n",
              "      <td>24</td>\n",
              "      <td>0</td>\n",
              "      <td>0</td>\n",
              "      <td>0</td>\n",
              "      <td>715</td>\n",
              "      <td>250</td>\n",
              "      <td>272</td>\n",
              "      <td>7</td>\n",
              "      <td>None</td>\n",
              "      <td>None</td>\n",
              "      <td>No</td>\n",
              "      <td>No</td>\n",
              "      <td>No</td>\n",
              "      <td>Ch</td>\n",
              "      <td>&gt;30</td>\n",
              "    </tr>\n",
              "    <tr>\n",
              "      <th>4</th>\n",
              "      <td>432617750</td>\n",
              "      <td>34636617</td>\n",
              "      <td>Asian</td>\n",
              "      <td>Female</td>\n",
              "      <td>[80-90)</td>\n",
              "      <td>2</td>\n",
              "      <td>3</td>\n",
              "      <td>5</td>\n",
              "      <td>2</td>\n",
              "      <td>MC</td>\n",
              "      <td>1</td>\n",
              "      <td>2</td>\n",
              "      <td>11</td>\n",
              "      <td>0</td>\n",
              "      <td>0</td>\n",
              "      <td>0</td>\n",
              "      <td>784</td>\n",
              "      <td>790</td>\n",
              "      <td>294</td>\n",
              "      <td>9</td>\n",
              "      <td>None</td>\n",
              "      <td>None</td>\n",
              "      <td>No</td>\n",
              "      <td>No</td>\n",
              "      <td>No</td>\n",
              "      <td>No</td>\n",
              "      <td>NO</td>\n",
              "    </tr>\n",
              "  </tbody>\n",
              "</table>\n",
              "</div>"
            ],
            "text/plain": [
              "  encounter_id patient_id             race  gender  ... tel_18  tel_43 tel_48 tel_49\n",
              "0    178974720   61754247        Caucasian    Male  ...     No      No     Ch    >30\n",
              "1    111231666  110498427  AfricanAmerican  Female  ...     No  Steady     No     NO\n",
              "2    134751624   91719990        Caucasian    Male  ...     No      No     Ch    >30\n",
              "3    254196636    1897758        Caucasian  Female  ...     No      No     Ch    >30\n",
              "4    432617750   34636617            Asian  Female  ...     No      No     No     NO\n",
              "\n",
              "[5 rows x 27 columns]"
            ]
          },
          "metadata": {
            "tags": []
          },
          "execution_count": 240
        }
      ]
    },
    {
      "cell_type": "code",
      "metadata": {
        "id": "YftLrmtgOnCw",
        "colab_type": "code",
        "colab": {
          "base_uri": "https://localhost:8080/",
          "height": 467
        },
        "outputId": "336c01e9-04c9-4e7a-b1b0-afac071f1bb0"
      },
      "source": [
        "column_idx=X_df_pd.columns\n",
        "print(column_idx)\n",
        "X_df_pd[[cat_cols]]"
      ],
      "execution_count": 244,
      "outputs": [
        {
          "output_type": "stream",
          "text": [
            "Index(['encounter_id', 'patient_id', 'race', 'gender', 'age',\n",
            "       'admission_type_id', 'discharge_disposition_id', 'admission_source_id',\n",
            "       'time_in_hospital', 'tel_1', 'tel_3', 'tel_4', 'tel_5', 'tel_6',\n",
            "       'tel_7', 'tel_8', 'tel_9', 'tel_10', 'tel_11', 'tel_12', 'tel_13',\n",
            "       'tel_14', 'tel_15', 'tel_18', 'tel_43', 'tel_48', 'tel_49'],\n",
            "      dtype='object')\n"
          ],
          "name": "stdout"
        },
        {
          "output_type": "error",
          "ename": "KeyError",
          "evalue": "ignored",
          "traceback": [
            "\u001b[0;31m---------------------------------------------------------------------------\u001b[0m",
            "\u001b[0;31mKeyError\u001b[0m                                  Traceback (most recent call last)",
            "\u001b[0;32m<ipython-input-244-7ddcd3bd738d>\u001b[0m in \u001b[0;36m<module>\u001b[0;34m()\u001b[0m\n\u001b[1;32m      1\u001b[0m \u001b[0mcolumn_idx\u001b[0m\u001b[0;34m=\u001b[0m\u001b[0mX_df_pd\u001b[0m\u001b[0;34m.\u001b[0m\u001b[0mcolumns\u001b[0m\u001b[0;34m\u001b[0m\u001b[0;34m\u001b[0m\u001b[0m\n\u001b[1;32m      2\u001b[0m \u001b[0mprint\u001b[0m\u001b[0;34m(\u001b[0m\u001b[0mcolumn_idx\u001b[0m\u001b[0;34m)\u001b[0m\u001b[0;34m\u001b[0m\u001b[0;34m\u001b[0m\u001b[0m\n\u001b[0;32m----> 3\u001b[0;31m \u001b[0mX_df_pd\u001b[0m\u001b[0;34m[\u001b[0m\u001b[0;34m[\u001b[0m\u001b[0mcat_cols\u001b[0m\u001b[0;34m]\u001b[0m\u001b[0;34m]\u001b[0m\u001b[0;34m\u001b[0m\u001b[0;34m\u001b[0m\u001b[0m\n\u001b[0m",
            "\u001b[0;32m/usr/local/lib/python3.6/dist-packages/pandas/core/frame.py\u001b[0m in \u001b[0;36m__getitem__\u001b[0;34m(self, key)\u001b[0m\n\u001b[1;32m   2804\u001b[0m             \u001b[0;32mif\u001b[0m \u001b[0mis_iterator\u001b[0m\u001b[0;34m(\u001b[0m\u001b[0mkey\u001b[0m\u001b[0;34m)\u001b[0m\u001b[0;34m:\u001b[0m\u001b[0;34m\u001b[0m\u001b[0;34m\u001b[0m\u001b[0m\n\u001b[1;32m   2805\u001b[0m                 \u001b[0mkey\u001b[0m \u001b[0;34m=\u001b[0m \u001b[0mlist\u001b[0m\u001b[0;34m(\u001b[0m\u001b[0mkey\u001b[0m\u001b[0;34m)\u001b[0m\u001b[0;34m\u001b[0m\u001b[0;34m\u001b[0m\u001b[0m\n\u001b[0;32m-> 2806\u001b[0;31m             \u001b[0mindexer\u001b[0m \u001b[0;34m=\u001b[0m \u001b[0mself\u001b[0m\u001b[0;34m.\u001b[0m\u001b[0mloc\u001b[0m\u001b[0;34m.\u001b[0m\u001b[0m_get_listlike_indexer\u001b[0m\u001b[0;34m(\u001b[0m\u001b[0mkey\u001b[0m\u001b[0;34m,\u001b[0m \u001b[0maxis\u001b[0m\u001b[0;34m=\u001b[0m\u001b[0;36m1\u001b[0m\u001b[0;34m,\u001b[0m \u001b[0mraise_missing\u001b[0m\u001b[0;34m=\u001b[0m\u001b[0;32mTrue\u001b[0m\u001b[0;34m)\u001b[0m\u001b[0;34m[\u001b[0m\u001b[0;36m1\u001b[0m\u001b[0;34m]\u001b[0m\u001b[0;34m\u001b[0m\u001b[0;34m\u001b[0m\u001b[0m\n\u001b[0m\u001b[1;32m   2807\u001b[0m \u001b[0;34m\u001b[0m\u001b[0m\n\u001b[1;32m   2808\u001b[0m         \u001b[0;31m# take() does not accept boolean indexers\u001b[0m\u001b[0;34m\u001b[0m\u001b[0;34m\u001b[0m\u001b[0;34m\u001b[0m\u001b[0m\n",
            "\u001b[0;32m/usr/local/lib/python3.6/dist-packages/pandas/core/indexing.py\u001b[0m in \u001b[0;36m_get_listlike_indexer\u001b[0;34m(self, key, axis, raise_missing)\u001b[0m\n\u001b[1;32m   1551\u001b[0m \u001b[0;34m\u001b[0m\u001b[0m\n\u001b[1;32m   1552\u001b[0m         self._validate_read_indexer(\n\u001b[0;32m-> 1553\u001b[0;31m             \u001b[0mkeyarr\u001b[0m\u001b[0;34m,\u001b[0m \u001b[0mindexer\u001b[0m\u001b[0;34m,\u001b[0m \u001b[0mo\u001b[0m\u001b[0;34m.\u001b[0m\u001b[0m_get_axis_number\u001b[0m\u001b[0;34m(\u001b[0m\u001b[0maxis\u001b[0m\u001b[0;34m)\u001b[0m\u001b[0;34m,\u001b[0m \u001b[0mraise_missing\u001b[0m\u001b[0;34m=\u001b[0m\u001b[0mraise_missing\u001b[0m\u001b[0;34m\u001b[0m\u001b[0;34m\u001b[0m\u001b[0m\n\u001b[0m\u001b[1;32m   1554\u001b[0m         )\n\u001b[1;32m   1555\u001b[0m         \u001b[0;32mreturn\u001b[0m \u001b[0mkeyarr\u001b[0m\u001b[0;34m,\u001b[0m \u001b[0mindexer\u001b[0m\u001b[0;34m\u001b[0m\u001b[0;34m\u001b[0m\u001b[0m\n",
            "\u001b[0;32m/usr/local/lib/python3.6/dist-packages/pandas/core/indexing.py\u001b[0m in \u001b[0;36m_validate_read_indexer\u001b[0;34m(self, key, indexer, axis, raise_missing)\u001b[0m\n\u001b[1;32m   1638\u001b[0m             \u001b[0;32mif\u001b[0m \u001b[0mmissing\u001b[0m \u001b[0;34m==\u001b[0m \u001b[0mlen\u001b[0m\u001b[0;34m(\u001b[0m\u001b[0mindexer\u001b[0m\u001b[0;34m)\u001b[0m\u001b[0;34m:\u001b[0m\u001b[0;34m\u001b[0m\u001b[0;34m\u001b[0m\u001b[0m\n\u001b[1;32m   1639\u001b[0m                 \u001b[0maxis_name\u001b[0m \u001b[0;34m=\u001b[0m \u001b[0mself\u001b[0m\u001b[0;34m.\u001b[0m\u001b[0mobj\u001b[0m\u001b[0;34m.\u001b[0m\u001b[0m_get_axis_name\u001b[0m\u001b[0;34m(\u001b[0m\u001b[0maxis\u001b[0m\u001b[0;34m)\u001b[0m\u001b[0;34m\u001b[0m\u001b[0;34m\u001b[0m\u001b[0m\n\u001b[0;32m-> 1640\u001b[0;31m                 \u001b[0;32mraise\u001b[0m \u001b[0mKeyError\u001b[0m\u001b[0;34m(\u001b[0m\u001b[0;34mf\"None of [{key}] are in the [{axis_name}]\"\u001b[0m\u001b[0;34m)\u001b[0m\u001b[0;34m\u001b[0m\u001b[0;34m\u001b[0m\u001b[0m\n\u001b[0m\u001b[1;32m   1641\u001b[0m \u001b[0;34m\u001b[0m\u001b[0m\n\u001b[1;32m   1642\u001b[0m             \u001b[0;31m# We (temporarily) allow for some missing keys with .loc, except in\u001b[0m\u001b[0;34m\u001b[0m\u001b[0;34m\u001b[0m\u001b[0;34m\u001b[0m\u001b[0m\n",
            "\u001b[0;31mKeyError\u001b[0m: \"None of [Index([('race', 'gender', 'age', 'tel_1', 'tel_9', 'tel_10', 'tel_11', 'tel_13', 'tel_14', 'tel_15', 'tel_18', 'tel_43', 'tel_48', 'tel_49')], dtype='object')] are in the [columns]\""
          ]
        }
      ]
    },
    {
      "cell_type": "code",
      "metadata": {
        "id": "eU0Lo-L4DfZM",
        "colab_type": "code",
        "colab": {
          "base_uri": "https://localhost:8080/",
          "height": 183
        },
        "outputId": "ae568e32-5c57-4670-f9ff-c24e7f1f5fda"
      },
      "source": [
        "from sklearn.preprocessing import LabelEncoder\n",
        "data1 = X_df['race'].apply(LabelEncoder().fit_transform)"
      ],
      "execution_count": 191,
      "outputs": [
        {
          "output_type": "error",
          "ename": "IndexError",
          "evalue": "ignored",
          "traceback": [
            "\u001b[0;31m---------------------------------------------------------------------------\u001b[0m",
            "\u001b[0;31mIndexError\u001b[0m                                Traceback (most recent call last)",
            "\u001b[0;32m<ipython-input-191-d869415bf0c3>\u001b[0m in \u001b[0;36m<module>\u001b[0;34m()\u001b[0m\n\u001b[1;32m      1\u001b[0m \u001b[0;32mfrom\u001b[0m \u001b[0msklearn\u001b[0m\u001b[0;34m.\u001b[0m\u001b[0mpreprocessing\u001b[0m \u001b[0;32mimport\u001b[0m \u001b[0mLabelEncoder\u001b[0m\u001b[0;34m\u001b[0m\u001b[0;34m\u001b[0m\u001b[0m\n\u001b[0;32m----> 2\u001b[0;31m \u001b[0mdata1\u001b[0m \u001b[0;34m=\u001b[0m \u001b[0mX_df\u001b[0m\u001b[0;34m[\u001b[0m\u001b[0;34m'race'\u001b[0m\u001b[0;34m]\u001b[0m\u001b[0;34m.\u001b[0m\u001b[0mapply\u001b[0m\u001b[0;34m(\u001b[0m\u001b[0mLabelEncoder\u001b[0m\u001b[0;34m(\u001b[0m\u001b[0;34m)\u001b[0m\u001b[0;34m.\u001b[0m\u001b[0mfit_transform\u001b[0m\u001b[0;34m)\u001b[0m\u001b[0;34m\u001b[0m\u001b[0;34m\u001b[0m\u001b[0m\n\u001b[0m",
            "\u001b[0;31mIndexError\u001b[0m: only integers, slices (`:`), ellipsis (`...`), numpy.newaxis (`None`) and integer or boolean arrays are valid indices"
          ]
        }
      ]
    },
    {
      "cell_type": "code",
      "metadata": {
        "id": "w1XhdQYELJKK",
        "colab_type": "code",
        "colab": {}
      },
      "source": [
        "pd.get_dummies(X_df_pd,columns=X_df_pd"
      ],
      "execution_count": null,
      "outputs": []
    },
    {
      "cell_type": "code",
      "metadata": {
        "id": "cr5ABcrCAAWb",
        "colab_type": "code",
        "colab": {}
      },
      "source": [
        "from sklearn.compose import ColumnTransformer\n",
        "from sklearn.preprocessing import OneHotEncoder\n",
        "ct = ColumnTransformer(transformers=[('encoder', OneHotEncoder(),[2,3])], remainder='passthrough')\n",
        "X_df_one = np.array(ct.fit_transform(X_df))"
      ],
      "execution_count": 245,
      "outputs": []
    },
    {
      "cell_type": "code",
      "metadata": {
        "id": "5cdxxmPqF7dp",
        "colab_type": "code",
        "colab": {
          "base_uri": "https://localhost:8080/",
          "height": 277
        },
        "outputId": "64a01939-b85f-4a77-e6f3-d6d63fd0ea88"
      },
      "source": [
        "print(X_df)\n",
        "print(X_df_one)\n",
        "X_df_one.shape"
      ],
      "execution_count": 247,
      "outputs": [
        {
          "output_type": "stream",
          "text": [
            "[[178974720 61754247 'Caucasian' ... 'No' 'Ch' '>30']\n",
            " [111231666 110498427 'AfricanAmerican' ... 'Steady' 'No' 'NO']\n",
            " [134751624 91719990 'Caucasian' ... 'No' 'Ch' '>30']\n",
            " ...\n",
            " [271832286 32262471 'Caucasian' ... 'No' 'No' 'NO']\n",
            " [254610744 96558903 'AfricanAmerican' ... 'No' 'Ch' 'NO']\n",
            " [169334802 23238954 'AfricanAmerican' ... 'No' 'Ch' 'NO']]\n",
            "[[0.0 0.0 1.0 ... 'No' 'Ch' '>30']\n",
            " [1.0 0.0 0.0 ... 'Steady' 'No' 'NO']\n",
            " [0.0 0.0 1.0 ... 'No' 'Ch' '>30']\n",
            " ...\n",
            " [0.0 0.0 1.0 ... 'No' 'No' 'NO']\n",
            " [1.0 0.0 0.0 ... 'No' 'Ch' 'NO']\n",
            " [1.0 0.0 0.0 ... 'No' 'Ch' 'NO']]\n"
          ],
          "name": "stdout"
        },
        {
          "output_type": "execute_result",
          "data": {
            "text/plain": [
              "(14696, 32)"
            ]
          },
          "metadata": {
            "tags": []
          },
          "execution_count": 247
        }
      ]
    },
    {
      "cell_type": "code",
      "metadata": {
        "id": "TjRHiQRfRAsw",
        "colab_type": "code",
        "colab": {
          "base_uri": "https://localhost:8080/",
          "height": 202
        },
        "outputId": "1870d76e-1638-498a-b15a-57b91229fba4"
      },
      "source": [
        "type(data1)\n",
        "data1.head()"
      ],
      "execution_count": 250,
      "outputs": [
        {
          "output_type": "execute_result",
          "data": {
            "text/html": [
              "<div>\n",
              "<style scoped>\n",
              "    .dataframe tbody tr th:only-of-type {\n",
              "        vertical-align: middle;\n",
              "    }\n",
              "\n",
              "    .dataframe tbody tr th {\n",
              "        vertical-align: top;\n",
              "    }\n",
              "\n",
              "    .dataframe thead th {\n",
              "        text-align: right;\n",
              "    }\n",
              "</style>\n",
              "<table border=\"1\" class=\"dataframe\">\n",
              "  <thead>\n",
              "    <tr style=\"text-align: right;\">\n",
              "      <th></th>\n",
              "      <th>race</th>\n",
              "      <th>gender</th>\n",
              "      <th>age</th>\n",
              "      <th>tel_1</th>\n",
              "      <th>tel_9</th>\n",
              "      <th>tel_10</th>\n",
              "      <th>tel_11</th>\n",
              "      <th>tel_13</th>\n",
              "      <th>tel_14</th>\n",
              "      <th>tel_15</th>\n",
              "      <th>tel_18</th>\n",
              "      <th>tel_43</th>\n",
              "      <th>tel_48</th>\n",
              "      <th>tel_49</th>\n",
              "    </tr>\n",
              "  </thead>\n",
              "  <tbody>\n",
              "    <tr>\n",
              "      <th>0</th>\n",
              "      <td>2</td>\n",
              "      <td>1</td>\n",
              "      <td>8</td>\n",
              "      <td>6</td>\n",
              "      <td>398</td>\n",
              "      <td>90</td>\n",
              "      <td>390</td>\n",
              "      <td>2</td>\n",
              "      <td>2</td>\n",
              "      <td>1</td>\n",
              "      <td>0</td>\n",
              "      <td>0</td>\n",
              "      <td>0</td>\n",
              "      <td>1</td>\n",
              "    </tr>\n",
              "    <tr>\n",
              "      <th>1</th>\n",
              "      <td>0</td>\n",
              "      <td>0</td>\n",
              "      <td>5</td>\n",
              "      <td>0</td>\n",
              "      <td>385</td>\n",
              "      <td>376</td>\n",
              "      <td>170</td>\n",
              "      <td>2</td>\n",
              "      <td>2</td>\n",
              "      <td>1</td>\n",
              "      <td>0</td>\n",
              "      <td>1</td>\n",
              "      <td>1</td>\n",
              "      <td>2</td>\n",
              "    </tr>\n",
              "    <tr>\n",
              "      <th>2</th>\n",
              "      <td>2</td>\n",
              "      <td>1</td>\n",
              "      <td>8</td>\n",
              "      <td>6</td>\n",
              "      <td>246</td>\n",
              "      <td>490</td>\n",
              "      <td>291</td>\n",
              "      <td>2</td>\n",
              "      <td>2</td>\n",
              "      <td>1</td>\n",
              "      <td>0</td>\n",
              "      <td>0</td>\n",
              "      <td>0</td>\n",
              "      <td>1</td>\n",
              "    </tr>\n",
              "    <tr>\n",
              "      <th>3</th>\n",
              "      <td>2</td>\n",
              "      <td>0</td>\n",
              "      <td>7</td>\n",
              "      <td>6</td>\n",
              "      <td>375</td>\n",
              "      <td>45</td>\n",
              "      <td>90</td>\n",
              "      <td>2</td>\n",
              "      <td>2</td>\n",
              "      <td>1</td>\n",
              "      <td>0</td>\n",
              "      <td>0</td>\n",
              "      <td>0</td>\n",
              "      <td>1</td>\n",
              "    </tr>\n",
              "    <tr>\n",
              "      <th>4</th>\n",
              "      <td>1</td>\n",
              "      <td>0</td>\n",
              "      <td>8</td>\n",
              "      <td>6</td>\n",
              "      <td>402</td>\n",
              "      <td>381</td>\n",
              "      <td>110</td>\n",
              "      <td>2</td>\n",
              "      <td>2</td>\n",
              "      <td>1</td>\n",
              "      <td>0</td>\n",
              "      <td>0</td>\n",
              "      <td>1</td>\n",
              "      <td>2</td>\n",
              "    </tr>\n",
              "  </tbody>\n",
              "</table>\n",
              "</div>"
            ],
            "text/plain": [
              "   race  gender  age  tel_1  tel_9  ...  tel_15  tel_18  tel_43  tel_48  tel_49\n",
              "0     2       1    8      6    398  ...       1       0       0       0       1\n",
              "1     0       0    5      0    385  ...       1       0       1       1       2\n",
              "2     2       1    8      6    246  ...       1       0       0       0       1\n",
              "3     2       0    7      6    375  ...       1       0       0       0       1\n",
              "4     1       0    8      6    402  ...       1       0       0       1       2\n",
              "\n",
              "[5 rows x 14 columns]"
            ]
          },
          "metadata": {
            "tags": []
          },
          "execution_count": 250
        }
      ]
    },
    {
      "cell_type": "code",
      "metadata": {
        "id": "rX0V5OaQkQM-",
        "colab_type": "code",
        "colab": {}
      },
      "source": [
        "X.isnull().sum(axis=0).head(30)"
      ],
      "execution_count": null,
      "outputs": []
    },
    {
      "cell_type": "markdown",
      "metadata": {
        "id": "H7sWxC4W0Za8",
        "colab_type": "text"
      },
      "source": [
        "**Removing the columns which has one distinct value** After combining both training and test data"
      ]
    },
    {
      "cell_type": "code",
      "metadata": {
        "id": "87Eaiq4Swgvh",
        "colab_type": "code",
        "colab": {}
      },
      "source": [
        "traintest=pd.concat([train,test],axis=0)"
      ],
      "execution_count": 31,
      "outputs": []
    },
    {
      "cell_type": "code",
      "metadata": {
        "id": "4znfdY7BwQrR",
        "colab_type": "code",
        "colab": {}
      },
      "source": [
        "feats_counts=train.nunique(dropna=False)\n"
      ],
      "execution_count": 32,
      "outputs": []
    },
    {
      "cell_type": "code",
      "metadata": {
        "id": "zsRvxvqmwxVi",
        "colab_type": "code",
        "colab": {
          "base_uri": "https://localhost:8080/",
          "height": 208
        },
        "outputId": "5f255f2d-d9d0-40ba-e812-12cb5e6ca3d8"
      },
      "source": [
        "feats_counts.sort_values()[:10]"
      ],
      "execution_count": 46,
      "outputs": [
        {
          "output_type": "execute_result",
          "data": {
            "text/plain": [
              "tel_28         1\n",
              "tel_47         1\n",
              "tel_20         1\n",
              "tel_45         1\n",
              "tel_29         1\n",
              "tel_30         1\n",
              "tel_41         1\n",
              "tel_18         2\n",
              "tel_23         2\n",
              "diabetesMed    2\n",
              "dtype: int64"
            ]
          },
          "metadata": {
            "tags": []
          },
          "execution_count": 46
        }
      ]
    },
    {
      "cell_type": "code",
      "metadata": {
        "id": "c89zr8gcxqoz",
        "colab_type": "code",
        "colab": {
          "base_uri": "https://localhost:8080/",
          "height": 35
        },
        "outputId": "0c9b1189-da23-476d-f669-6893dc94cd00"
      },
      "source": [
        "constant_features=feats_counts.loc[feats_counts==1].index.tolist()\n",
        "print(constant_features)\n",
        "\n",
        "\n"
      ],
      "execution_count": 68,
      "outputs": [
        {
          "output_type": "stream",
          "text": [
            "['tel_20', 'tel_28', 'tel_29', 'tel_30', 'tel_41', 'tel_45', 'tel_47']\n"
          ],
          "name": "stdout"
        }
      ]
    },
    {
      "cell_type": "code",
      "metadata": {
        "id": "ZfcPAdy9XO1A",
        "colab_type": "code",
        "colab": {}
      },
      "source": [
        "cat_cols=list(train.select_dtypes(include=['object']).columns)\n",
        "num_cols=list(train.select_dtypes(exclude=['object']).columns)"
      ],
      "execution_count": 72,
      "outputs": []
    },
    {
      "cell_type": "code",
      "metadata": {
        "id": "wwrxYiEcXiBW",
        "colab_type": "code",
        "colab": {
          "base_uri": "https://localhost:8080/",
          "height": 641
        },
        "outputId": "1d214b3c-498d-4174-c62a-d753d52ddc23"
      },
      "source": [
        "cat_cols"
      ],
      "execution_count": 73,
      "outputs": [
        {
          "output_type": "execute_result",
          "data": {
            "text/plain": [
              "['race',\n",
              " 'gender',\n",
              " 'age',\n",
              " 'weight',\n",
              " 'tel_1',\n",
              " 'tel_2',\n",
              " 'tel_9',\n",
              " 'tel_10',\n",
              " 'tel_11',\n",
              " 'tel_13',\n",
              " 'tel_14',\n",
              " 'tel_15',\n",
              " 'tel_16',\n",
              " 'tel_17',\n",
              " 'tel_18',\n",
              " 'tel_19',\n",
              " 'tel_20',\n",
              " 'tel_21',\n",
              " 'tel_22',\n",
              " 'tel_23',\n",
              " 'tel_24',\n",
              " 'tel_25',\n",
              " 'tel_26',\n",
              " 'tel_27',\n",
              " 'tel_28',\n",
              " 'tel_29',\n",
              " 'tel_30',\n",
              " 'tel_41',\n",
              " 'tel_42',\n",
              " 'tel_43',\n",
              " 'tel_44',\n",
              " 'tel_45',\n",
              " 'tel_46',\n",
              " 'tel_47',\n",
              " 'tel_48',\n",
              " 'tel_49']"
            ]
          },
          "metadata": {
            "tags": []
          },
          "execution_count": 73
        }
      ]
    },
    {
      "cell_type": "code",
      "metadata": {
        "id": "PwF4w1dFXjvT",
        "colab_type": "code",
        "colab": {
          "base_uri": "https://localhost:8080/",
          "height": 260
        },
        "outputId": "91ee4ce7-a6b9-4a1a-f2b7-2405f58c5064"
      },
      "source": [
        "num_cols"
      ],
      "execution_count": 74,
      "outputs": [
        {
          "output_type": "execute_result",
          "data": {
            "text/plain": [
              "['encounter_id',\n",
              " 'patient_id',\n",
              " 'admission_type_id',\n",
              " 'discharge_disposition_id',\n",
              " 'admission_source_id',\n",
              " 'time_in_hospital',\n",
              " 'tel_3',\n",
              " 'tel_4',\n",
              " 'tel_5',\n",
              " 'tel_6',\n",
              " 'tel_7',\n",
              " 'tel_8',\n",
              " 'tel_12',\n",
              " 'diabetesMed']"
            ]
          },
          "metadata": {
            "tags": []
          },
          "execution_count": 74
        }
      ]
    },
    {
      "cell_type": "code",
      "metadata": {
        "id": "70XMHP1TI8OR",
        "colab_type": "code",
        "colab": {}
      },
      "source": [
        "traintest.drop(constant_features,axis=1,inplace=True)\n"
      ],
      "execution_count": null,
      "outputs": []
    },
    {
      "cell_type": "code",
      "metadata": {
        "id": "Fzkwi9bPJ_g0",
        "colab_type": "code",
        "colab": {
          "base_uri": "https://localhost:8080/",
          "height": 901
        },
        "outputId": "213bc06f-c9bb-469c-e300-cb9c7e88efd5"
      },
      "source": [
        "nunique=train.nunique(axis=0,dropna=False)\n",
        "nunique"
      ],
      "execution_count": 70,
      "outputs": [
        {
          "output_type": "execute_result",
          "data": {
            "text/plain": [
              "encounter_id                14696\n",
              "patient_id                  13011\n",
              "race                            6\n",
              "gender                          2\n",
              "age                            10\n",
              "weight                          9\n",
              "admission_type_id               8\n",
              "discharge_disposition_id       20\n",
              "admission_source_id            16\n",
              "time_in_hospital               14\n",
              "tel_1                          17\n",
              "tel_2                          48\n",
              "tel_3                         104\n",
              "tel_4                           7\n",
              "tel_5                          70\n",
              "tel_6                          26\n",
              "tel_7                          22\n",
              "tel_8                          16\n",
              "tel_9                         512\n",
              "tel_10                        505\n",
              "tel_11                        537\n",
              "tel_12                         16\n",
              "tel_13                          4\n",
              "tel_14                          4\n",
              "tel_15                          4\n",
              "tel_16                          4\n",
              "tel_17                          4\n",
              "tel_18                          2\n",
              "tel_19                          4\n",
              "tel_20                          1\n",
              "tel_21                          4\n",
              "tel_22                          4\n",
              "tel_23                          2\n",
              "tel_24                          4\n",
              "tel_25                          4\n",
              "tel_26                          4\n",
              "tel_27                          4\n",
              "tel_28                          1\n",
              "tel_29                          1\n",
              "tel_30                          1\n",
              "tel_41                          1\n",
              "tel_42                          4\n",
              "tel_43                          3\n",
              "tel_44                          2\n",
              "tel_45                          1\n",
              "tel_46                          2\n",
              "tel_47                          1\n",
              "tel_48                          2\n",
              "tel_49                          3\n",
              "diabetesMed                     2\n",
              "dtype: int64"
            ]
          },
          "metadata": {
            "tags": []
          },
          "execution_count": 70
        }
      ]
    },
    {
      "cell_type": "code",
      "metadata": {
        "id": "5udPqHPJpM4r",
        "colab_type": "code",
        "colab": {
          "base_uri": "https://localhost:8080/",
          "height": 901
        },
        "outputId": "009983d6-d188-4e38-c2ec-3614d902bc55"
      },
      "source": [
        "#train[train['weight']=='?']\n",
        "train_None= train.replace(to_replace='?',value=np.nan)\n",
        "train_None.isnull().sum(axis=0).head(51)\n",
        "#train_None.head(10)"
      ],
      "execution_count": 45,
      "outputs": [
        {
          "output_type": "execute_result",
          "data": {
            "text/plain": [
              "encounter_id                    0\n",
              "patient_id                      0\n",
              "race                          337\n",
              "gender                          0\n",
              "age                             0\n",
              "weight                      14315\n",
              "admission_type_id               0\n",
              "discharge_disposition_id        0\n",
              "admission_source_id             0\n",
              "time_in_hospital                0\n",
              "tel_1                        2458\n",
              "tel_2                        8122\n",
              "tel_3                           0\n",
              "tel_4                           0\n",
              "tel_5                           0\n",
              "tel_6                           0\n",
              "tel_7                           0\n",
              "tel_8                           0\n",
              "tel_9                           1\n",
              "tel_10                         33\n",
              "tel_11                        139\n",
              "tel_12                          0\n",
              "tel_13                          0\n",
              "tel_14                          0\n",
              "tel_15                          0\n",
              "tel_16                          0\n",
              "tel_17                          0\n",
              "tel_18                          0\n",
              "tel_19                          0\n",
              "tel_20                          0\n",
              "tel_21                          0\n",
              "tel_22                          0\n",
              "tel_23                          0\n",
              "tel_24                          0\n",
              "tel_25                          0\n",
              "tel_26                          0\n",
              "tel_27                          0\n",
              "tel_28                          0\n",
              "tel_29                          0\n",
              "tel_30                          0\n",
              "tel_41                          0\n",
              "tel_42                          0\n",
              "tel_43                          0\n",
              "tel_44                          0\n",
              "tel_45                          0\n",
              "tel_46                          0\n",
              "tel_47                          0\n",
              "tel_48                          0\n",
              "tel_49                          0\n",
              "diabetesMed                     0\n",
              "dtype: int64"
            ]
          },
          "metadata": {
            "tags": []
          },
          "execution_count": 45
        }
      ]
    },
    {
      "cell_type": "code",
      "metadata": {
        "id": "UkYtYnOs0jhY",
        "colab_type": "code",
        "colab": {}
      },
      "source": [
        "from sklearn.preprocessing import StandardScaler\n",
        "sc=StandardScaler()\n",
        "X = sc.fit_transform(X)\n",
        "Y = sc.transform(Y)"
      ],
      "execution_count": null,
      "outputs": []
    }
  ]
}